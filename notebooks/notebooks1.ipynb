{
 "cells": [
  {
   "cell_type": "markdown",
   "metadata": {},
   "source": [
    "# ***rfpred*** 🧪"
   ]
  },
  {
   "cell_type": "markdown",
   "metadata": {},
   "source": [
    "Welcome to our documentation notebook for the package ***rfpred***, a package to predict the Rf value of silica thin-layer chromatographies based on the experimental conditions used in the lab!\n",
    "\n",
    "In this notebook we will guide you through our progress and discuss, which challenges we faced along the way. Below you find the table of contents to get a glimpse on the global structure of our project.\n",
    "\n",
    "***Table of Contents***\n",
    "\n",
    "1. Introduction\n",
    "2. Extraction of data\n",
    "3. Pre-Processing of the Data using Regex and a LLM\n",
    "4. Cleaning of the data\n",
    "5. Training the model (notebooks2)\n",
    "6. Streamlit GUI and input processing (notebooks2)\n"
   ]
  },
  {
   "cell_type": "markdown",
   "metadata": {},
   "source": [
    "# 1. Introduction 🎯 <a name=\"introduction\"></a>"
   ]
  },
  {
   "cell_type": "markdown",
   "metadata": {},
   "source": [
    "TLC is a common practice in synthesis labs. However, spotting THE spot (the product) is often harder as we might think due to the oftentimes huge amount of by-products in new reaction discovery. With this project, we aim to facilitate chemists lives. We trained a model on data that we extracted from the dataset of chemical reactions from US patent applications from 2001 to 2016, collected by Daniel Lowe. This dataset can be found here: 🔍 https://figshare.com/articles/dataset/Chemical_reactions_from_US_patents_1976-Sep2016_/5104873. \n",
    "\n",
    "_Now let's dive in a bit deeper._"
   ]
  },
  {
   "cell_type": "markdown",
   "metadata": {},
   "source": [
    "# 2. Extraction of data 🛠️\n",
    "As there is no open source dataset on Rf values, we had to extract the relevant information from the XML files of the US patents dataset.\n",
    "We were interested in the title, the general experimental procedure, the reaction SMILES, but most importantly the product SMILES. That is when we faced the first challenge: we did not know, how to treat and iterate through XML files. This turned out to be pretty feasible after spending a bit of time, familiarizing with the structure. However, we noted that not all information we wanted to extract where listed in the same manner (the product SMILES for example), so it took a while until we finalized the function that enabled us to extract all the data we wanted to have. \n"
   ]
  },
  {
   "cell_type": "code",
   "execution_count": 2,
   "metadata": {},
   "outputs": [],
   "source": [
    "# First we import the necessary libraries\n",
    "\n",
    "import xml.etree.cElementTree as et     # for parsing the XML file\n",
    "import pandas as pd\n",
    "import numpy as np\n",
    "import os\n",
    "import re\n",
    "from groq import Groq # for the LLM Groq queries (needs to be installed via pip)\n",
    "import json\n",
    "from tqdm import tqdm\n",
    "from config import LLM_API_KEY\n",
    "from tqdm import tqdm\n",
    "from rdkit import Chem\n",
    "from rdkit.Chem import Draw\n",
    "from rdkit.Chem import AllChem\n",
    "from rdkit.Chem import rdChemReactions, rdmolops\n",
    "from rdkit.Chem.Draw import IPythonConsole"
   ]
  },
  {
   "cell_type": "markdown",
   "metadata": {},
   "source": [
    "Now we use a function to iterate over all the XML files in the applications data from 2001. We collect the title, the paragraphText, mostly including the experimental procedures, the reaction SMILES and the product SMILES from it."
   ]
  },
  {
   "cell_type": "code",
   "execution_count": 3,
   "metadata": {},
   "outputs": [],
   "source": [
    "def extract_data(root_file):\n",
    "    \"\"\"function that extracts data from an XML file and returns a list of dictionaries containing the extracted information.\n",
    "        Information to be extracted includes the title of the reaction, the experimental procedure, the reaction SMILES, and the product SMILES.\n",
    "\n",
    "    Args:\n",
    "        root_file: root of the parsed XML file\n",
    "\n",
    "    Returns:\n",
    "        reaction_list: list of dictionaries containing the extracted information\n",
    "    \"\"\"\n",
    "    \n",
    "    # Define the namespace that is used to prevent mismatching of tags in the XML file\n",
    "    ns = {'cml': 'http://www.xml-cml.org/schema', 'dl': 'http://bitbucket.org/dan2097'}\n",
    "\n",
    "    # Create lists to store extracted information\n",
    "    reaction_list = []\n",
    "\n",
    "    # Find all <reaction> elements\n",
    "    reaction_elements = root_file.findall('.//cml:reaction', ns)\n",
    "\n",
    "    # Iterate over each <reaction> element\n",
    "    for reaction_element in reaction_elements:\n",
    "        # Create a dictionary to store information about the reaction\n",
    "        reaction_dict = {}\n",
    "\n",
    "        # Extract title\n",
    "        title = reaction_element.find('.//dl:headingText', ns)\n",
    "        if title is not None:\n",
    "            reaction_dict['title'] = title.text\n",
    "\n",
    "        # Extract paragraph text\n",
    "        paragraph_text = reaction_element.find('.//dl:paragraphText', ns)\n",
    "        if paragraph_text is not None:\n",
    "            reaction_dict['paragraphText'] = paragraph_text.text\n",
    "\n",
    "        # Extract reaction SMILES\n",
    "        reaction_smiles = reaction_element.find('.//dl:reactionSmiles', ns)\n",
    "        if reaction_smiles is not None:\n",
    "            reaction_dict['reactionSmiles'] = reaction_smiles.text\n",
    "\n",
    "        # Extract productSMILES\n",
    "        product_elements = reaction_element.findall('.//cml:product', ns)\n",
    "        product_smiles = []\n",
    "        for product_element in product_elements:\n",
    "            identifier_element = product_element.find('.//cml:identifier[@dictRef=\"cml:smiles\"]', ns)\n",
    "            if identifier_element is not None:\n",
    "                smiles_value = identifier_element.get('value')\n",
    "                if smiles_value is not None:\n",
    "                    product_smiles.append(smiles_value)\n",
    "        if product_smiles:\n",
    "            reaction_dict['productSmiles'] = product_smiles\n",
    "\n",
    "        # Append reaction dictionary to reaction list\n",
    "        reaction_list.append(reaction_dict)\n",
    "\n",
    "    # Check if any values were extracted\n",
    "    #print(\"Reaction List:\", reaction_list)\n",
    "    return reaction_list\n"
   ]
  },
  {
   "cell_type": "markdown",
   "metadata": {},
   "source": [
    "In a second step, we iterate through all files in every folder of the application data of the dataset and extract the data with the function `extract_data`. This takes quite a bit, but you can see the progress whenever a new folder is treated."
   ]
  },
  {
   "cell_type": "code",
   "execution_count": null,
   "metadata": {},
   "outputs": [],
   "source": [
    "Applications_list = []\n",
    "\n",
    "# define path to access first XML file in the folder 2001 of applications\n",
    "# Insert the path to the folder containing the XML files\n",
    "for folder in os.listdir(r'C:\\Users\\milen\\git\\ppChem\\PPChem_TLC\\data\\applications'):\n",
    "    folder = os.path.join(r'C:\\Users\\milen\\git\\ppChem\\PPChem_TLC\\data\\applications', folder)\n",
    "    print(folder) \n",
    "    for file in os.listdir(folder):\n",
    "        if file.endswith('.xml'):\n",
    "            file = os.path.join(folder, file)\n",
    "            tree = et.parse(file)\n",
    "         # define root of the XML file to iterate through the file\n",
    "            root = tree.getroot()\n",
    "            Applications_list.append(extract_data(root))    \n",
    "                  "
   ]
  },
  {
   "cell_type": "markdown",
   "metadata": {},
   "source": [
    "After the first step, it was clear that the extracted data needed a lot (a LOT) of pre-processing before we could finally feed it into our ML model. We decided, it would be smartest to convert everything into a pandas dataframe from the list of dictionaries we got from the `extract_data` function."
   ]
  },
  {
   "cell_type": "code",
   "execution_count": null,
   "metadata": {},
   "outputs": [
    {
     "name": "stdout",
     "output_type": "stream",
     "text": [
      "(1939253, 4)\n"
     ]
    },
    {
     "data": {
      "text/html": [
       "<div>\n",
       "<style scoped>\n",
       "    .dataframe tbody tr th:only-of-type {\n",
       "        vertical-align: middle;\n",
       "    }\n",
       "\n",
       "    .dataframe tbody tr th {\n",
       "        vertical-align: top;\n",
       "    }\n",
       "\n",
       "    .dataframe thead th {\n",
       "        text-align: right;\n",
       "    }\n",
       "</style>\n",
       "<table border=\"1\" class=\"dataframe\">\n",
       "  <thead>\n",
       "    <tr style=\"text-align: right;\">\n",
       "      <th></th>\n",
       "      <th>paragraphText</th>\n",
       "      <th>reactionSmiles</th>\n",
       "      <th>productSmiles</th>\n",
       "      <th>title</th>\n",
       "    </tr>\n",
       "  </thead>\n",
       "  <tbody>\n",
       "    <tr>\n",
       "      <th>0</th>\n",
       "      <td>PL 137,526 describes the hydrogenation of p-te...</td>\n",
       "      <td>[C:1]([C:5]1[CH:10]=[CH:9][C:8]([OH:11])=[CH:7...</td>\n",
       "      <td>[C(C)(C)(C)C1CCC(CC1)O]</td>\n",
       "      <td>NaN</td>\n",
       "    </tr>\n",
       "    <tr>\n",
       "      <th>1</th>\n",
       "      <td>Slurry aluminum chloride (140.9 g, 1.075 mol) ...</td>\n",
       "      <td>[Cl-].[Al+3].[Cl-].[Cl-].[Cl:5][CH2:6][CH2:7][...</td>\n",
       "      <td>[ClCCCC(=O)C1=CC=C(C=C1)C(C)C]</td>\n",
       "      <td>Step h: 4-Chloro-1-(4-isopropyl-phenyl)-butan-...</td>\n",
       "    </tr>\n",
       "    <tr>\n",
       "      <th>2</th>\n",
       "      <td>Suspend anhydrous AlCl3 (156 g, 1.15 mol) in t...</td>\n",
       "      <td>[Al+3].[Cl-].[Cl-].[Cl-].[Cl:5][CH2:6][CH2:7][...</td>\n",
       "      <td>[ClCCCC(=O)C1=CC=C(C=C1)C]</td>\n",
       "      <td>Step d: 4-Chloro-1-(4-methyl-phenyl)-butan-1-one</td>\n",
       "    </tr>\n",
       "    <tr>\n",
       "      <th>3</th>\n",
       "      <td>Dissolve 4-chloro-1-(4-isopropyl-phenyl)-butan...</td>\n",
       "      <td>[Cl:1][CH2:2][CH2:3][CH2:4][C:5]([C:7]1[CH:12]...</td>\n",
       "      <td>[BrC(C)(C)C1=CC=C(C=C1)C(CCCCl)=O]</td>\n",
       "      <td>1-[4-(1-Bromo-1-methyl-ethyl)-phenyl]-4-chloro...</td>\n",
       "    </tr>\n",
       "    <tr>\n",
       "      <th>4</th>\n",
       "      <td>Dissolve 4-chloro-1-(4-isopropyl-phenyl)-butan...</td>\n",
       "      <td>[Cl:1][CH2:2][CH2:3][CH2:4][C:5]([C:7]1[CH:12]...</td>\n",
       "      <td>[BrC(C)(C)C1=CC=C(C=C1)C(CCCCl)=O]</td>\n",
       "      <td>1-[4-(1-Bromo-1-methyl-ethyl)-phenyl]-4-chloro...</td>\n",
       "    </tr>\n",
       "  </tbody>\n",
       "</table>\n",
       "</div>"
      ],
      "text/plain": [
       "                                       paragraphText  \\\n",
       "0  PL 137,526 describes the hydrogenation of p-te...   \n",
       "1  Slurry aluminum chloride (140.9 g, 1.075 mol) ...   \n",
       "2  Suspend anhydrous AlCl3 (156 g, 1.15 mol) in t...   \n",
       "3  Dissolve 4-chloro-1-(4-isopropyl-phenyl)-butan...   \n",
       "4  Dissolve 4-chloro-1-(4-isopropyl-phenyl)-butan...   \n",
       "\n",
       "                                      reactionSmiles  \\\n",
       "0  [C:1]([C:5]1[CH:10]=[CH:9][C:8]([OH:11])=[CH:7...   \n",
       "1  [Cl-].[Al+3].[Cl-].[Cl-].[Cl:5][CH2:6][CH2:7][...   \n",
       "2  [Al+3].[Cl-].[Cl-].[Cl-].[Cl:5][CH2:6][CH2:7][...   \n",
       "3  [Cl:1][CH2:2][CH2:3][CH2:4][C:5]([C:7]1[CH:12]...   \n",
       "4  [Cl:1][CH2:2][CH2:3][CH2:4][C:5]([C:7]1[CH:12]...   \n",
       "\n",
       "                        productSmiles  \\\n",
       "0             [C(C)(C)(C)C1CCC(CC1)O]   \n",
       "1      [ClCCCC(=O)C1=CC=C(C=C1)C(C)C]   \n",
       "2          [ClCCCC(=O)C1=CC=C(C=C1)C]   \n",
       "3  [BrC(C)(C)C1=CC=C(C=C1)C(CCCCl)=O]   \n",
       "4  [BrC(C)(C)C1=CC=C(C=C1)C(CCCCl)=O]   \n",
       "\n",
       "                                               title  \n",
       "0                                                NaN  \n",
       "1  Step h: 4-Chloro-1-(4-isopropyl-phenyl)-butan-...  \n",
       "2   Step d: 4-Chloro-1-(4-methyl-phenyl)-butan-1-one  \n",
       "3  1-[4-(1-Bromo-1-methyl-ethyl)-phenyl]-4-chloro...  \n",
       "4  1-[4-(1-Bromo-1-methyl-ethyl)-phenyl]-4-chloro...  "
      ]
     },
     "execution_count": 14,
     "metadata": {},
     "output_type": "execute_result"
    }
   ],
   "source": [
    "# Create a DataFrame from the extracted data\n",
    "df_extracts = pd.DataFrame(Applications_list[0])\n",
    "\n",
    "# Iterate through the list of dictionaries and create a DataFrame\n",
    "for i in range(1, len(Applications_list)):\n",
    "    df = pd.DataFrame(Applications_list[i])\n",
    "    \n",
    "    # Concatenate the DataFrames\n",
    "    df_extracts = pd.concat([df_extracts, df], ignore_index=True)\n",
    "\n",
    "print(df_extracts.shape)\n",
    "df_extracts.head()\n"
   ]
  },
  {
   "cell_type": "markdown",
   "metadata": {},
   "source": [
    "That Dataframe is huge! Finally, save all the extracted data into a csv file on the local device."
   ]
  },
  {
   "cell_type": "code",
   "execution_count": null,
   "metadata": {},
   "outputs": [],
   "source": [
    "df_extracts.to_csv(r'C:\\Users\\milen\\git\\ppChem\\PPChem_TLC\\extracted_data_raw_applications.csv', index=False)"
   ]
  },
  {
   "cell_type": "markdown",
   "metadata": {},
   "source": [
    "# 3. Pre-Processing of the Data using Regex and a LLM 💬 <a name = \"PreProcessing\"></a>\n",
    "Of course, not all entries in the data frame can be used for our model. Many of the experimental procedures do not include any information about the Rf value. Thus, we need to find the entries with Rf values. There is only one problem: all experimental procedures are written differently. Thus, filtering them with Regex is quite a pain and did not give the outcome, we envisioned (although we spent enugh time with regex to call us friends by now). To circumvent this, we created a function, that pre-filters the experimental procedure to drop the rows that do not include any information about Rf values and keeps the other entries. Those remaining entries - as they are very broadely filtering - are treated with a LLM (if you want to run it you have to sign up for Groq and insert your API key and define it in the function) and the response is parsed with regex again to extract the information we need. "
   ]
  },
  {
   "cell_type": "markdown",
   "metadata": {},
   "source": [
    "The `extract_rows_with_rf` function is our not very selective pre-filter, to at least slightly reduce the computation cost of the LLM afterwards."
   ]
  },
  {
   "cell_type": "code",
   "execution_count": 3,
   "metadata": {},
   "outputs": [],
   "source": [
    "def extract_rows_with_rf(Dataframe: pd.DataFrame):\n",
    "    \"\"\"Function that extracts rows with Rf values from a dataframe and returns a new dataframe containing only these rows. \n",
    "\n",
    "    Args:\n",
    "        Dataframe (_type_): Dataframe containing the extracted data from the US patents\n",
    "    \"\"\"\n",
    "    # copy the dataframe to leave old dataframe unchanged\n",
    "    df = Dataframe.copy()\n",
    "    \n",
    "    # Define the regex patterns\n",
    "    Rf_check = r'( ?R[fF][ :=(]?)'\n",
    "    \n",
    "    # List to store indices of rows without Rf values\n",
    "    rows_to_drop = []\n",
    "    \n",
    "    # Search for rows with Rf values in the paragraphText column\n",
    "    for index, row in df.iterrows():\n",
    "        checkRf = re.findall(Rf_check, row['paragraphText'])\n",
    "\n",
    "        if not checkRf:\n",
    "            rows_to_drop.append(index)\n",
    "               \n",
    "    # Drop rows without Rf values\n",
    "    df = df.drop(rows_to_drop)\n",
    "            \n",
    "    return df\n",
    "    "
   ]
  },
  {
   "cell_type": "markdown",
   "metadata": {},
   "source": [
    "Now we come to the heart of the pre-processing: the `get_values` and `parse_response` functions iterate through the whole dataframe and apply the LLM to a very specific user prompt we wrote. Before coming up with this solution, to again use regex for the extraction of the solvents and ratios, we tried to directly convert the response of the LLM into a dictionary which could have been easily added to the new dataframe. However, we had to accept, that LLMs love talking bla bla and this blew up our rigid structure which was needed to avoid errors. So, again, regex, our old friend. "
   ]
  },
  {
   "cell_type": "code",
   "execution_count": 5,
   "metadata": {},
   "outputs": [],
   "source": [
    "def parse_response(response: str):\n",
    "    \"\"\"Function that extracts the Rf value, solvent A, solvent B, % solvent A, and % solvent B from a LLM response.\n",
    "\n",
    "    Args:\n",
    "        response (str): response from the LLM model \n",
    "\n",
    "    Returns:\n",
    "        rf_value (str)\n",
    "        solvent_a (str) \n",
    "        solvent_b (str) \n",
    "        percent_a (str)\n",
    "        percent_b (str)\n",
    "        additive_c (str)\n",
    "        percent_c (str)\n",
    "    \"\"\"\n",
    "    try: \n",
    "        \n",
    "    # search for Rf value in the response using regex\n",
    "        rf_value_match = re.search(r\"Rf\\s*=\\s*(\\d+\\.\\d+)\", response)\n",
    "        solvent_a_match = re.search(r\"solvent\\s+A\\s*=\\s*([^,]+)\", response)\n",
    "        solvent_b_match = re.search(r\"solvent\\s+B\\s*=\\s*([^,]+)\", response)\n",
    "        additive_c_match = re.search(r\"additive\\s+C\\s*=\\s*([^,]+)\", response)\n",
    "        percent_a_match = re.search(r\"percent\\s+A\\s*=\\s*(\\d+)\", response)\n",
    "        percent_b_match = re.search(r\"percent\\s+B\\s*=\\s*(\\d+)\", response)\n",
    "        percent_c_match = re.search(r\"percent\\s+C\\s*=\\s*(\\d+\\.\\d+|\\d+)\", response)\n",
    "        \n",
    "    except KeyError:\n",
    "        raise KeyError(f\"Error extracting values from the response: {response}\")\n",
    "    \n",
    "    # Extract values from regex matches\n",
    "    rf_value = rf_value_match.group(1) if rf_value_match else None\n",
    "    solvent_a = solvent_a_match.group(1) if solvent_a_match else None\n",
    "    solvent_b = solvent_b_match.group(1) if solvent_b_match else None\n",
    "    percent_a = percent_a_match.group(1) if percent_a_match else None\n",
    "    percent_b = percent_b_match.group(1) if percent_b_match else None\n",
    "    additive_c = additive_c_match.group(1) if additive_c_match else None\n",
    "    percent_c = percent_c_match.group(1) if percent_c_match else None\n",
    "\n",
    "    # Return the extracted values\n",
    "    return rf_value, solvent_a, solvent_b, percent_a, percent_b, additive_c, percent_c"
   ]
  },
  {
   "cell_type": "code",
   "execution_count": 34,
   "metadata": {},
   "outputs": [],
   "source": [
    "def get_values(Dataframe: pd.DataFrame):\n",
    "    \"\"\"Function that extracts the Rf value from a row in a Dataframe using LLM and returns it.\n",
    "\n",
    "    Args:\n",
    "        DataFrame (_type_): DataFrame containing the extracted data from the US patents\n",
    "    \"\"\"\n",
    "    \n",
    "    client = Groq(\n",
    "        api_key= LLM_API_KEY ) # insert your API Key for Groq in the config.py file to use the LLM model\n",
    "    \n",
    "    for index, row in tqdm(Dataframe.iterrows(), total=Dataframe.shape[0]):\n",
    "        user_prompt = f\"\"\"Give me the Rf value, the solvent mixture and the ratio of the solvents in percent for each solvent of this \n",
    "                        procedure: {row['paragraphText']} in the following format only: Rf= , solvent A= , solvent B= , percent A= , \n",
    "                        percent B= . If there is a third solvent, please provide the information in the same format, call it additive C =\n",
    "                        and percent C = . If no information is given for one of the categories, put None for this category. Only give the \n",
    "                        information requested as output, no additional notes or information!!!\"\"\" # f\"Please only provide the Rf value, solvents A and B, additives C (if applicable), and their ratios in percent as a Python dictionary only (without 'Here is the python dictionary') with keys 'Rf', 'solvent A', 'solvent B', 'additive C', 'percent A', 'percent B', and 'percent C' of this procedure: {row['paragraphText']}. If there is no information for one category, put 'Nan'. Do not provide any additional notes or information except for the dictionary!!! Always use this format!!\" # \"Give me the Rf value, the solvent A, B and additive C if applied and their ratios in percent as a python dictionary calling the keys Rf (should be a number), solvent A (should be a solvent only), solvent B (solvent only), percent A (number), percent B (number), additive C (solvent), percent C (number) of this procedure:\" + row['paragraphText'] + \"If there is no information for one category of solvent, put Nan. Do not put any other notes or information except for the dictionary!!! Always use this format!!\"  # \"Give me the Rf value, the solvent mixture and their ratio of the following procedure\" + row['paragraphText'] +  \"in the following format of a dictionary only: Rf= , solvent A= , solvent B= , percent A= , percent B= . If there is a third solvent, please provide the information in the same format, call it additive C and percent C = . Only give the values requested as output, no additional notes or information!!!\"        \n",
    "        \n",
    "        try:             \n",
    "            # Call the LLM model to extract the Rf value\n",
    "            chat_completion = client.chat.completions.create(\n",
    "                messages=[\n",
    "                    {\n",
    "                        \"role\": \"user\",\n",
    "                        \"content\": user_prompt,\n",
    "                    }\n",
    "                ],\n",
    "                model=\"llama3-70b-8192\", # other models: LlaMA3 70 b (llama3-70b-8192), mixtral (mixtral-8x7b-32768) can be found here: https://console.groq.com/docs/models\n",
    "            )\n",
    "            \n",
    "            # Extract the Rf value from the response\n",
    "            response = chat_completion.choices[0].message.content\n",
    "            #print(response)\n",
    "            \n",
    "            # track the progress of the function \n",
    "            if index % 100 == 0:\n",
    "                print(\"Progress:\", (index+1)/len(Dataframe) * 100, \"%\" )\n",
    "            \n",
    "            # Parse the response to extract the Rf value, solvent A, solvent B, % solvent A, and % solvent B using the parse_response function\n",
    "            rf_value, solvent_a, solvent_b, percent_a, percent_b, additive_c, percent_c = parse_response(response)\n",
    "            \n",
    "            # Add extracted values to new columns in the dataframe row\n",
    "            Dataframe.at[index, 'Rf'] = rf_value\n",
    "            Dataframe.at[index, 'Solvent_A'] = solvent_a\n",
    "            Dataframe.at[index, 'Solvent_B'] = solvent_b\n",
    "            Dataframe.at[index, 'Percent_A'] = percent_a\n",
    "            Dataframe.at[index, 'Percent_B'] = percent_b\n",
    "            Dataframe.at[index, 'Additive_C'] = additive_c\n",
    "            Dataframe.at[index, 'Percent_C'] = percent_c\n",
    "            \n",
    "            \n",
    "            \n",
    "        except Exception as e:\n",
    "            # Print the error message and the index of the row where the error occurred\n",
    "            print(e)\n",
    "            print(\"Error at index:\", index)\n",
    "            continue\n",
    "        \n",
    "    return Dataframe\n",
    "        \n",
    "\n",
    "        \n",
    "    "
   ]
  },
  {
   "cell_type": "markdown",
   "metadata": {},
   "source": [
    "### 3.1 Pre-Processing with the extracted data\n",
    "Now let's see, what we get out from the first pre-processing step. We wouldn't recommend you to run this following lines, as our laptops spent days and nights extracting row per row. "
   ]
  },
  {
   "cell_type": "markdown",
   "metadata": {},
   "source": [
    "First we load the previously extracted data from the US patents into a new dataframe and check its size (just out of curiosity)."
   ]
  },
  {
   "cell_type": "code",
   "execution_count": 4,
   "metadata": {},
   "outputs": [
    {
     "data": {
      "text/plain": [
       "(1939253, 4)"
      ]
     },
     "execution_count": 4,
     "metadata": {},
     "output_type": "execute_result"
    }
   ],
   "source": [
    "# That is the csv file that contains all the raw data from the US patents\n",
    "df_new = pd.read_csv(r'C:\\Users\\milen\\git\\ppChem\\PPChem_TLC\\extracted_data_raw_applications.csv') # change directory here if necessary\n",
    "df_new.shape"
   ]
  },
  {
   "cell_type": "markdown",
   "metadata": {},
   "source": [
    "Now we apply the first function `extract_rows_with_rf` to prefilter the dataframe. Already by this first filter, the size of the datafram shrinks quite a bit!"
   ]
  },
  {
   "cell_type": "code",
   "execution_count": 16,
   "metadata": {},
   "outputs": [
    {
     "data": {
      "text/html": [
       "<div>\n",
       "<style scoped>\n",
       "    .dataframe tbody tr th:only-of-type {\n",
       "        vertical-align: middle;\n",
       "    }\n",
       "\n",
       "    .dataframe tbody tr th {\n",
       "        vertical-align: top;\n",
       "    }\n",
       "\n",
       "    .dataframe thead th {\n",
       "        text-align: right;\n",
       "    }\n",
       "</style>\n",
       "<table border=\"1\" class=\"dataframe\">\n",
       "  <thead>\n",
       "    <tr style=\"text-align: right;\">\n",
       "      <th></th>\n",
       "      <th>paragraphText</th>\n",
       "      <th>reactionSmiles</th>\n",
       "      <th>productSmiles</th>\n",
       "      <th>title</th>\n",
       "    </tr>\n",
       "  </thead>\n",
       "  <tbody>\n",
       "    <tr>\n",
       "      <th>524</th>\n",
       "      <td>A mixture of 7-trifluoromethylsulfonyloxy-1-(4...</td>\n",
       "      <td>FC(F)(F)S(O[C:7]1[CH:16]=[C:15]2[C:10]([CH:11]...</td>\n",
       "      <td>['CN1CCN(CC1)C1=CC=CC2=CC=C(C=C12)C=1C=NC=NC1']</td>\n",
       "      <td>1-(4-Methylpiperazin-1-yl)-7-(pyrimid-5-yl)nap...</td>\n",
       "    </tr>\n",
       "    <tr>\n",
       "      <th>525</th>\n",
       "      <td>A mixture of the above acid (0.25 g, 0.82 mmol...</td>\n",
       "      <td>[CH3:1][N:2]1[CH2:7][CH2:6]O[CH2:4][CH2:3]1.O....</td>\n",
       "      <td>['ClC1=CC=C(CNC(=O)C2=CC3=C(C=CC=C3C=C2)N2CCN(...</td>\n",
       "      <td>8-(4-Methylpiperazin-1-yl)naphthalene-2-carbox...</td>\n",
       "    </tr>\n",
       "    <tr>\n",
       "      <th>538</th>\n",
       "      <td>A solution of 1,4-benzodioxan-6-amine (2.00 g,...</td>\n",
       "      <td>[O:1]1[C:6]2[CH:7]=[CH:8][C:9]([NH2:11])=[CH:1...</td>\n",
       "      <td>['O1CCOC2=C1C=CC(=C2)N2CCNCC2']</td>\n",
       "      <td>NaN</td>\n",
       "    </tr>\n",
       "    <tr>\n",
       "      <th>539</th>\n",
       "      <td>A solution of 6-aminochroman from part 2 of th...</td>\n",
       "      <td>[NH2:1][C:2]1[CH:3]=[C:4]2[C:9](=[CH:10][CH:11...</td>\n",
       "      <td>['O1CCCC2=CC(=CC=C12)N1CCNCC1']</td>\n",
       "      <td>1-(Chroman-6-yl)piperazine</td>\n",
       "    </tr>\n",
       "    <tr>\n",
       "      <th>540</th>\n",
       "      <td>A solution of 1-(1,4-benzodioxan-6-yl)piperazi...</td>\n",
       "      <td>O1C2C=CC(N3CCNCC3)=CC=2OCC1.C(O)(=O)C(O)=O.[O:...</td>\n",
       "      <td>['O1CCOC2=C1C=CC(=C2)N2CCN(CC2)CC2=CC=C(C=C2)F']</td>\n",
       "      <td>NaN</td>\n",
       "    </tr>\n",
       "  </tbody>\n",
       "</table>\n",
       "</div>"
      ],
      "text/plain": [
       "                                         paragraphText  \\\n",
       "524  A mixture of 7-trifluoromethylsulfonyloxy-1-(4...   \n",
       "525  A mixture of the above acid (0.25 g, 0.82 mmol...   \n",
       "538  A solution of 1,4-benzodioxan-6-amine (2.00 g,...   \n",
       "539  A solution of 6-aminochroman from part 2 of th...   \n",
       "540  A solution of 1-(1,4-benzodioxan-6-yl)piperazi...   \n",
       "\n",
       "                                        reactionSmiles  \\\n",
       "524  FC(F)(F)S(O[C:7]1[CH:16]=[C:15]2[C:10]([CH:11]...   \n",
       "525  [CH3:1][N:2]1[CH2:7][CH2:6]O[CH2:4][CH2:3]1.O....   \n",
       "538  [O:1]1[C:6]2[CH:7]=[CH:8][C:9]([NH2:11])=[CH:1...   \n",
       "539  [NH2:1][C:2]1[CH:3]=[C:4]2[C:9](=[CH:10][CH:11...   \n",
       "540  O1C2C=CC(N3CCNCC3)=CC=2OCC1.C(O)(=O)C(O)=O.[O:...   \n",
       "\n",
       "                                         productSmiles  \\\n",
       "524    ['CN1CCN(CC1)C1=CC=CC2=CC=C(C=C12)C=1C=NC=NC1']   \n",
       "525  ['ClC1=CC=C(CNC(=O)C2=CC3=C(C=CC=C3C=C2)N2CCN(...   \n",
       "538                    ['O1CCOC2=C1C=CC(=C2)N2CCNCC2']   \n",
       "539                    ['O1CCCC2=CC(=CC=C12)N1CCNCC1']   \n",
       "540   ['O1CCOC2=C1C=CC(=C2)N2CCN(CC2)CC2=CC=C(C=C2)F']   \n",
       "\n",
       "                                                 title  \n",
       "524  1-(4-Methylpiperazin-1-yl)-7-(pyrimid-5-yl)nap...  \n",
       "525  8-(4-Methylpiperazin-1-yl)naphthalene-2-carbox...  \n",
       "538                                                NaN  \n",
       "539                         1-(Chroman-6-yl)piperazine  \n",
       "540                                                NaN  "
      ]
     },
     "execution_count": 16,
     "metadata": {},
     "output_type": "execute_result"
    }
   ],
   "source": [
    "df_rf = extract_rows_with_rf(df_new)\n",
    "print(df_rf.shape)\n",
    "df_rf.to_csv(r'C:\\Users\\milen\\git\\ppChem\\PPChem_TLC\\data\\extracted_data_second_processing_rf_values.csv', index=False)\n",
    "df_rf.head()"
   ]
  },
  {
   "cell_type": "markdown",
   "metadata": {},
   "source": [
    "As the entire dataframe so far is still too big and it takes too long to compute everything, we split down the dataframe into four sub-files and computed them simultaneously. Still a long time and some days in class without the laptops, as it was still computing. Google Colab was also not an option, as it automatically stopped after 6h and we were to greedy to pay for the upgrade..."
   ]
  },
  {
   "cell_type": "code",
   "execution_count": 6,
   "metadata": {},
   "outputs": [],
   "source": [
    "df_4 = pd.read_csv(r'C:\\Users\\milen\\git\\ppChem\\PPChem_TLC\\AfterRFfilter(4).csv')"
   ]
  },
  {
   "cell_type": "markdown",
   "metadata": {},
   "source": [
    "After 25h of computing..."
   ]
  },
  {
   "cell_type": "code",
   "execution_count": 15,
   "metadata": {},
   "outputs": [
    {
     "name": "stderr",
     "output_type": "stream",
     "text": [
      "  0%|          | 1/9147 [00:01<4:49:08,  1.90s/it]"
     ]
    },
    {
     "name": "stdout",
     "output_type": "stream",
     "text": [
      "Progress: 0.010932546190007653 %\n"
     ]
    },
    {
     "name": "stderr",
     "output_type": "stream",
     "text": [
      "  1%|          | 66/9147 [11:21<20:37:32,  8.18s/it]"
     ]
    },
    {
     "name": "stdout",
     "output_type": "stream",
     "text": [
      "upstream connect error or disconnect/reset before headers. reset reason: remote connection failure, transport failure reason: delayed connect error: 111\n",
      "Error at index: 65\n"
     ]
    },
    {
     "name": "stderr",
     "output_type": "stream",
     "text": [
      "  1%|          | 101/9147 [17:00<20:44:20,  8.25s/it]"
     ]
    },
    {
     "name": "stdout",
     "output_type": "stream",
     "text": [
      "Progress: 1.1041871651907729 %\n"
     ]
    },
    {
     "name": "stderr",
     "output_type": "stream",
     "text": [
      "  2%|▏         | 201/9147 [34:46<19:44:03,  7.94s/it]"
     ]
    },
    {
     "name": "stdout",
     "output_type": "stream",
     "text": [
      "Progress: 2.197441784191538 %\n"
     ]
    },
    {
     "name": "stderr",
     "output_type": "stream",
     "text": [
      "  3%|▎         | 301/9147 [54:08<21:18:06,  8.67s/it]"
     ]
    },
    {
     "name": "stdout",
     "output_type": "stream",
     "text": [
      "Progress: 3.2906964031923036 %\n"
     ]
    },
    {
     "name": "stderr",
     "output_type": "stream",
     "text": [
      "  4%|▍         | 401/9147 [1:12:20<26:18:45, 10.83s/it]"
     ]
    },
    {
     "name": "stdout",
     "output_type": "stream",
     "text": [
      "Progress: 4.383951022193068 %\n"
     ]
    },
    {
     "name": "stderr",
     "output_type": "stream",
     "text": [
      "  5%|▍         | 433/9147 [1:18:15<17:10:47,  7.10s/it]"
     ]
    },
    {
     "name": "stdout",
     "output_type": "stream",
     "text": [
      "upstream connect error or disconnect/reset before headers. reset reason: remote connection failure, transport failure reason: delayed connect error: 111\n",
      "Error at index: 432\n"
     ]
    },
    {
     "name": "stderr",
     "output_type": "stream",
     "text": [
      "  5%|▌         | 501/9147 [1:31:06<31:16:08, 13.02s/it]"
     ]
    },
    {
     "name": "stdout",
     "output_type": "stream",
     "text": [
      "Progress: 5.477205641193834 %\n"
     ]
    },
    {
     "name": "stderr",
     "output_type": "stream",
     "text": [
      "  7%|▋         | 601/9147 [1:43:45<5:25:36,  2.29s/it] "
     ]
    },
    {
     "name": "stdout",
     "output_type": "stream",
     "text": [
      "Progress: 6.570460260194599 %\n"
     ]
    },
    {
     "name": "stderr",
     "output_type": "stream",
     "text": [
      "  8%|▊         | 701/9147 [2:04:17<49:02:51, 20.91s/it]"
     ]
    },
    {
     "name": "stdout",
     "output_type": "stream",
     "text": [
      "Progress: 7.663714879195364 %\n"
     ]
    },
    {
     "name": "stderr",
     "output_type": "stream",
     "text": [
      "  9%|▉         | 801/9147 [2:22:00<14:25:13,  6.22s/it]"
     ]
    },
    {
     "name": "stdout",
     "output_type": "stream",
     "text": [
      "Progress: 8.75696949819613 %\n"
     ]
    },
    {
     "name": "stderr",
     "output_type": "stream",
     "text": [
      " 10%|▉         | 901/9147 [2:38:00<27:10:11, 11.86s/it]"
     ]
    },
    {
     "name": "stdout",
     "output_type": "stream",
     "text": [
      "Progress: 9.850224117196897 %\n"
     ]
    },
    {
     "name": "stderr",
     "output_type": "stream",
     "text": [
      " 11%|█         | 1001/9147 [2:49:06<15:49:41,  6.99s/it]"
     ]
    },
    {
     "name": "stdout",
     "output_type": "stream",
     "text": [
      "Progress: 10.94347873619766 %\n"
     ]
    },
    {
     "name": "stderr",
     "output_type": "stream",
     "text": [
      " 12%|█▏        | 1101/9147 [3:03:40<21:26:29,  9.59s/it]"
     ]
    },
    {
     "name": "stdout",
     "output_type": "stream",
     "text": [
      "Progress: 12.036733355198425 %\n"
     ]
    },
    {
     "name": "stderr",
     "output_type": "stream",
     "text": [
      " 13%|█▎        | 1201/9147 [3:18:45<16:02:24,  7.27s/it]"
     ]
    },
    {
     "name": "stdout",
     "output_type": "stream",
     "text": [
      "Progress: 13.129987974199192 %\n"
     ]
    },
    {
     "name": "stderr",
     "output_type": "stream",
     "text": [
      " 14%|█▍        | 1301/9147 [3:33:46<36:41:32, 16.84s/it]"
     ]
    },
    {
     "name": "stdout",
     "output_type": "stream",
     "text": [
      "Progress: 14.223242593199956 %\n"
     ]
    },
    {
     "name": "stderr",
     "output_type": "stream",
     "text": [
      " 15%|█▌        | 1401/9147 [3:50:35<26:26:01, 12.29s/it]"
     ]
    },
    {
     "name": "stdout",
     "output_type": "stream",
     "text": [
      "Progress: 15.316497212200723 %\n"
     ]
    },
    {
     "name": "stderr",
     "output_type": "stream",
     "text": [
      " 16%|█▋        | 1501/9147 [4:12:37<16:08:41,  7.60s/it]"
     ]
    },
    {
     "name": "stdout",
     "output_type": "stream",
     "text": [
      "Progress: 16.409751831201486 %\n"
     ]
    },
    {
     "name": "stderr",
     "output_type": "stream",
     "text": [
      " 18%|█▊        | 1601/9147 [4:30:52<22:53:58, 10.92s/it]"
     ]
    },
    {
     "name": "stdout",
     "output_type": "stream",
     "text": [
      "Progress: 17.503006450202253 %\n"
     ]
    },
    {
     "name": "stderr",
     "output_type": "stream",
     "text": [
      " 19%|█▊        | 1701/9147 [4:50:11<17:04:33,  8.26s/it]"
     ]
    },
    {
     "name": "stdout",
     "output_type": "stream",
     "text": [
      "Progress: 18.596261069203017 %\n"
     ]
    },
    {
     "name": "stderr",
     "output_type": "stream",
     "text": [
      " 20%|█▉        | 1801/9147 [5:04:17<15:05:52,  7.40s/it]"
     ]
    },
    {
     "name": "stdout",
     "output_type": "stream",
     "text": [
      "Progress: 19.68951568820378 %\n"
     ]
    },
    {
     "name": "stderr",
     "output_type": "stream",
     "text": [
      " 21%|██        | 1901/9147 [5:19:18<8:00:47,  3.98s/it] "
     ]
    },
    {
     "name": "stdout",
     "output_type": "stream",
     "text": [
      "Progress: 20.782770307204547 %\n"
     ]
    },
    {
     "name": "stderr",
     "output_type": "stream",
     "text": [
      " 22%|██▏       | 2001/9147 [5:38:31<22:58:15, 11.57s/it]"
     ]
    },
    {
     "name": "stdout",
     "output_type": "stream",
     "text": [
      "Progress: 21.87602492620531 %\n"
     ]
    },
    {
     "name": "stderr",
     "output_type": "stream",
     "text": [
      " 23%|██▎       | 2101/9147 [5:55:08<18:50:03,  9.62s/it]"
     ]
    },
    {
     "name": "stdout",
     "output_type": "stream",
     "text": [
      "Progress: 22.969279545206078 %\n"
     ]
    },
    {
     "name": "stderr",
     "output_type": "stream",
     "text": [
      " 24%|██▍       | 2201/9147 [6:13:39<24:33:09, 12.73s/it]"
     ]
    },
    {
     "name": "stdout",
     "output_type": "stream",
     "text": [
      "Progress: 24.062534164206845 %\n"
     ]
    },
    {
     "name": "stderr",
     "output_type": "stream",
     "text": [
      " 25%|██▌       | 2301/9147 [6:26:18<15:58:21,  8.40s/it]"
     ]
    },
    {
     "name": "stdout",
     "output_type": "stream",
     "text": [
      "Progress: 25.155788783207612 %\n"
     ]
    },
    {
     "name": "stderr",
     "output_type": "stream",
     "text": [
      " 26%|██▌       | 2401/9147 [6:41:54<19:16:04, 10.28s/it]"
     ]
    },
    {
     "name": "stdout",
     "output_type": "stream",
     "text": [
      "Progress: 26.249043402208372 %\n"
     ]
    },
    {
     "name": "stderr",
     "output_type": "stream",
     "text": [
      " 27%|██▋       | 2501/9147 [6:53:26<11:06:32,  6.02s/it]"
     ]
    },
    {
     "name": "stdout",
     "output_type": "stream",
     "text": [
      "Progress: 27.34229802120914 %\n"
     ]
    },
    {
     "name": "stderr",
     "output_type": "stream",
     "text": [
      " 28%|██▊       | 2601/9147 [7:04:43<12:30:55,  6.88s/it]"
     ]
    },
    {
     "name": "stdout",
     "output_type": "stream",
     "text": [
      "Progress: 28.435552640209906 %\n"
     ]
    },
    {
     "name": "stderr",
     "output_type": "stream",
     "text": [
      " 30%|██▉       | 2701/9147 [7:21:47<28:25:18, 15.87s/it]"
     ]
    },
    {
     "name": "stdout",
     "output_type": "stream",
     "text": [
      "Progress: 29.52880725921067 %\n"
     ]
    },
    {
     "name": "stderr",
     "output_type": "stream",
     "text": [
      " 31%|███       | 2801/9147 [7:36:24<7:02:25,  3.99s/it] "
     ]
    },
    {
     "name": "stdout",
     "output_type": "stream",
     "text": [
      "Progress: 30.622061878211436 %\n"
     ]
    },
    {
     "name": "stderr",
     "output_type": "stream",
     "text": [
      " 32%|███▏      | 2901/9147 [7:53:07<14:32:46,  8.38s/it]"
     ]
    },
    {
     "name": "stdout",
     "output_type": "stream",
     "text": [
      "Progress: 31.7153164972122 %\n"
     ]
    },
    {
     "name": "stderr",
     "output_type": "stream",
     "text": [
      " 33%|███▎      | 3001/9147 [8:03:36<18:48:12, 11.01s/it]"
     ]
    },
    {
     "name": "stdout",
     "output_type": "stream",
     "text": [
      "Progress: 32.80857111621297 %\n"
     ]
    },
    {
     "name": "stderr",
     "output_type": "stream",
     "text": [
      " 34%|███▍      | 3101/9147 [8:16:57<12:19:39,  7.34s/it]"
     ]
    },
    {
     "name": "stdout",
     "output_type": "stream",
     "text": [
      "Progress: 33.901825735213734 %\n"
     ]
    },
    {
     "name": "stderr",
     "output_type": "stream",
     "text": [
      " 35%|███▍      | 3201/9147 [8:33:56<20:56:35, 12.68s/it]"
     ]
    },
    {
     "name": "stdout",
     "output_type": "stream",
     "text": [
      "Progress: 34.995080354214494 %\n"
     ]
    },
    {
     "name": "stderr",
     "output_type": "stream",
     "text": [
      " 36%|███▌      | 3301/9147 [8:44:19<13:37:20,  8.39s/it]"
     ]
    },
    {
     "name": "stdout",
     "output_type": "stream",
     "text": [
      "Progress: 36.08833497321526 %\n"
     ]
    },
    {
     "name": "stderr",
     "output_type": "stream",
     "text": [
      " 37%|███▋      | 3401/9147 [8:59:37<2:31:13,  1.58s/it] "
     ]
    },
    {
     "name": "stdout",
     "output_type": "stream",
     "text": [
      "Progress: 37.18158959221603 %\n"
     ]
    },
    {
     "name": "stderr",
     "output_type": "stream",
     "text": [
      " 38%|███▊      | 3501/9147 [9:09:27<4:48:35,  3.07s/it] "
     ]
    },
    {
     "name": "stdout",
     "output_type": "stream",
     "text": [
      "Progress: 38.27484421121679 %\n"
     ]
    },
    {
     "name": "stderr",
     "output_type": "stream",
     "text": [
      " 39%|███▉      | 3601/9147 [9:23:49<16:49:24, 10.92s/it]"
     ]
    },
    {
     "name": "stdout",
     "output_type": "stream",
     "text": [
      "Progress: 39.368098830217555 %\n"
     ]
    },
    {
     "name": "stderr",
     "output_type": "stream",
     "text": [
      " 40%|████      | 3701/9147 [9:38:40<7:38:03,  5.05s/it] "
     ]
    },
    {
     "name": "stdout",
     "output_type": "stream",
     "text": [
      "Progress: 40.46135344921832 %\n"
     ]
    },
    {
     "name": "stderr",
     "output_type": "stream",
     "text": [
      " 42%|████▏     | 3801/9147 [9:48:31<11:20:13,  7.63s/it]"
     ]
    },
    {
     "name": "stdout",
     "output_type": "stream",
     "text": [
      "Progress: 41.55460806821909 %\n"
     ]
    },
    {
     "name": "stderr",
     "output_type": "stream",
     "text": [
      " 43%|████▎     | 3901/9147 [10:00:25<13:17:33,  9.12s/it]"
     ]
    },
    {
     "name": "stdout",
     "output_type": "stream",
     "text": [
      "Progress: 42.64786268721985 %\n"
     ]
    },
    {
     "name": "stderr",
     "output_type": "stream",
     "text": [
      " 44%|████▎     | 4001/9147 [10:11:46<15:34:12, 10.89s/it]"
     ]
    },
    {
     "name": "stdout",
     "output_type": "stream",
     "text": [
      "Progress: 43.741117306220616 %\n"
     ]
    },
    {
     "name": "stderr",
     "output_type": "stream",
     "text": [
      " 45%|████▍     | 4101/9147 [10:29:38<15:03:58, 10.75s/it]"
     ]
    },
    {
     "name": "stdout",
     "output_type": "stream",
     "text": [
      "Progress: 44.83437192522138 %\n"
     ]
    },
    {
     "name": "stderr",
     "output_type": "stream",
     "text": [
      " 46%|████▌     | 4201/9147 [10:43:24<13:56:20, 10.15s/it]"
     ]
    },
    {
     "name": "stdout",
     "output_type": "stream",
     "text": [
      "Progress: 45.92762654422215 %\n"
     ]
    },
    {
     "name": "stderr",
     "output_type": "stream",
     "text": [
      " 47%|████▋     | 4301/9147 [10:59:30<7:04:19,  5.25s/it] "
     ]
    },
    {
     "name": "stdout",
     "output_type": "stream",
     "text": [
      "Progress: 47.02088116322292 %\n"
     ]
    },
    {
     "name": "stderr",
     "output_type": "stream",
     "text": [
      " 48%|████▊     | 4401/9147 [11:11:46<22:21:28, 16.96s/it]"
     ]
    },
    {
     "name": "stdout",
     "output_type": "stream",
     "text": [
      "Progress: 48.114135782223684 %\n"
     ]
    },
    {
     "name": "stderr",
     "output_type": "stream",
     "text": [
      " 49%|████▉     | 4501/9147 [11:27:15<13:06:24, 10.16s/it]"
     ]
    },
    {
     "name": "stdout",
     "output_type": "stream",
     "text": [
      "Progress: 49.207390401224444 %\n"
     ]
    },
    {
     "name": "stderr",
     "output_type": "stream",
     "text": [
      " 50%|█████     | 4601/9147 [11:40:24<13:18:42, 10.54s/it]"
     ]
    },
    {
     "name": "stdout",
     "output_type": "stream",
     "text": [
      "Progress: 50.30064502022521 %\n"
     ]
    },
    {
     "name": "stderr",
     "output_type": "stream",
     "text": [
      " 51%|█████▏    | 4701/9147 [11:49:32<3:27:47,  2.80s/it] "
     ]
    },
    {
     "name": "stdout",
     "output_type": "stream",
     "text": [
      "Progress: 51.39389963922597 %\n"
     ]
    },
    {
     "name": "stderr",
     "output_type": "stream",
     "text": [
      " 52%|█████▏    | 4801/9147 [12:04:56<8:32:07,  7.07s/it] "
     ]
    },
    {
     "name": "stdout",
     "output_type": "stream",
     "text": [
      "Progress: 52.487154258226745 %\n"
     ]
    },
    {
     "name": "stderr",
     "output_type": "stream",
     "text": [
      " 54%|█████▎    | 4901/9147 [12:16:19<6:06:20,  5.18s/it] "
     ]
    },
    {
     "name": "stdout",
     "output_type": "stream",
     "text": [
      "Progress: 53.580408877227505 %\n"
     ]
    },
    {
     "name": "stderr",
     "output_type": "stream",
     "text": [
      " 55%|█████▍    | 5001/9147 [12:28:04<4:03:55,  3.53s/it] "
     ]
    },
    {
     "name": "stdout",
     "output_type": "stream",
     "text": [
      "Progress: 54.67366349622827 %\n"
     ]
    },
    {
     "name": "stderr",
     "output_type": "stream",
     "text": [
      " 56%|█████▌    | 5101/9147 [12:43:17<8:49:56,  7.86s/it] "
     ]
    },
    {
     "name": "stdout",
     "output_type": "stream",
     "text": [
      "Progress: 55.76691811522904 %\n"
     ]
    },
    {
     "name": "stderr",
     "output_type": "stream",
     "text": [
      " 57%|█████▋    | 5201/9147 [12:58:40<18:25:37, 16.81s/it]"
     ]
    },
    {
     "name": "stdout",
     "output_type": "stream",
     "text": [
      "Progress: 56.8601727342298 %\n"
     ]
    },
    {
     "name": "stderr",
     "output_type": "stream",
     "text": [
      " 58%|█████▊    | 5301/9147 [13:13:15<8:58:40,  8.40s/it] "
     ]
    },
    {
     "name": "stdout",
     "output_type": "stream",
     "text": [
      "Progress: 57.953427353230566 %\n"
     ]
    },
    {
     "name": "stderr",
     "output_type": "stream",
     "text": [
      " 59%|█████▉    | 5401/9147 [13:26:55<14:48:02, 14.22s/it]"
     ]
    },
    {
     "name": "stdout",
     "output_type": "stream",
     "text": [
      "Progress: 59.046681972231326 %\n"
     ]
    },
    {
     "name": "stderr",
     "output_type": "stream",
     "text": [
      " 60%|██████    | 5501/9147 [13:43:22<7:48:59,  7.72s/it] "
     ]
    },
    {
     "name": "stdout",
     "output_type": "stream",
     "text": [
      "Progress: 60.1399365912321 %\n"
     ]
    },
    {
     "name": "stderr",
     "output_type": "stream",
     "text": [
      " 61%|██████    | 5601/9147 [14:01:47<6:20:54,  6.45s/it] "
     ]
    },
    {
     "name": "stdout",
     "output_type": "stream",
     "text": [
      "Progress: 61.23319121023286 %\n"
     ]
    },
    {
     "name": "stderr",
     "output_type": "stream",
     "text": [
      " 62%|██████▏   | 5701/9147 [14:18:30<7:46:06,  8.12s/it] "
     ]
    },
    {
     "name": "stdout",
     "output_type": "stream",
     "text": [
      "Progress: 62.32644582923362 %\n"
     ]
    },
    {
     "name": "stderr",
     "output_type": "stream",
     "text": [
      " 63%|██████▎   | 5801/9147 [14:36:19<19:48:22, 21.31s/it]"
     ]
    },
    {
     "name": "stdout",
     "output_type": "stream",
     "text": [
      "Progress: 63.419700448234394 %\n"
     ]
    },
    {
     "name": "stderr",
     "output_type": "stream",
     "text": [
      " 65%|██████▍   | 5901/9147 [14:49:41<7:08:16,  7.92s/it] "
     ]
    },
    {
     "name": "stdout",
     "output_type": "stream",
     "text": [
      "Progress: 64.51295506723515 %\n"
     ]
    },
    {
     "name": "stderr",
     "output_type": "stream",
     "text": [
      " 66%|██████▌   | 6001/9147 [15:05:19<8:34:21,  9.81s/it] "
     ]
    },
    {
     "name": "stdout",
     "output_type": "stream",
     "text": [
      "Progress: 65.60620968623593 %\n"
     ]
    },
    {
     "name": "stderr",
     "output_type": "stream",
     "text": [
      " 67%|██████▋   | 6101/9147 [15:16:22<2:56:45,  3.48s/it] "
     ]
    },
    {
     "name": "stdout",
     "output_type": "stream",
     "text": [
      "Progress: 66.69946430523669 %\n"
     ]
    },
    {
     "name": "stderr",
     "output_type": "stream",
     "text": [
      " 68%|██████▊   | 6201/9147 [15:33:10<7:43:43,  9.44s/it] "
     ]
    },
    {
     "name": "stdout",
     "output_type": "stream",
     "text": [
      "Progress: 67.79271892423745 %\n"
     ]
    },
    {
     "name": "stderr",
     "output_type": "stream",
     "text": [
      " 69%|██████▉   | 6301/9147 [15:48:48<4:56:20,  6.25s/it] "
     ]
    },
    {
     "name": "stdout",
     "output_type": "stream",
     "text": [
      "Progress: 68.88597354323822 %\n"
     ]
    },
    {
     "name": "stderr",
     "output_type": "stream",
     "text": [
      " 70%|██████▉   | 6401/9147 [16:01:37<8:47:32, 11.53s/it] "
     ]
    },
    {
     "name": "stdout",
     "output_type": "stream",
     "text": [
      "Progress: 69.97922816223898 %\n"
     ]
    },
    {
     "name": "stderr",
     "output_type": "stream",
     "text": [
      " 71%|███████   | 6501/9147 [16:18:07<7:38:51, 10.40s/it] "
     ]
    },
    {
     "name": "stdout",
     "output_type": "stream",
     "text": [
      "Progress: 71.07248278123976 %\n"
     ]
    },
    {
     "name": "stderr",
     "output_type": "stream",
     "text": [
      " 72%|███████▏  | 6601/9147 [16:34:23<3:50:38,  5.44s/it] "
     ]
    },
    {
     "name": "stdout",
     "output_type": "stream",
     "text": [
      "Progress: 72.16573740024052 %\n"
     ]
    },
    {
     "name": "stderr",
     "output_type": "stream",
     "text": [
      " 73%|███████▎  | 6701/9147 [16:51:13<9:14:25, 13.60s/it] "
     ]
    },
    {
     "name": "stdout",
     "output_type": "stream",
     "text": [
      "Progress: 73.25899201924128 %\n"
     ]
    },
    {
     "name": "stderr",
     "output_type": "stream",
     "text": [
      " 74%|███████▍  | 6801/9147 [17:09:39<6:19:37,  9.71s/it] "
     ]
    },
    {
     "name": "stdout",
     "output_type": "stream",
     "text": [
      "Progress: 74.35224663824205 %\n"
     ]
    },
    {
     "name": "stderr",
     "output_type": "stream",
     "text": [
      " 75%|███████▌  | 6901/9147 [17:25:38<5:18:09,  8.50s/it]"
     ]
    },
    {
     "name": "stdout",
     "output_type": "stream",
     "text": [
      "Progress: 75.44550125724281 %\n"
     ]
    },
    {
     "name": "stderr",
     "output_type": "stream",
     "text": [
      " 77%|███████▋  | 7001/9147 [17:39:40<6:13:18, 10.44s/it]"
     ]
    },
    {
     "name": "stdout",
     "output_type": "stream",
     "text": [
      "Progress: 76.53875587624358 %\n"
     ]
    },
    {
     "name": "stderr",
     "output_type": "stream",
     "text": [
      " 78%|███████▊  | 7101/9147 [17:59:53<6:17:33, 11.07s/it] "
     ]
    },
    {
     "name": "stdout",
     "output_type": "stream",
     "text": [
      "Progress: 77.63201049524434 %\n"
     ]
    },
    {
     "name": "stderr",
     "output_type": "stream",
     "text": [
      " 79%|███████▊  | 7201/9147 [18:16:01<4:53:41,  9.06s/it]"
     ]
    },
    {
     "name": "stdout",
     "output_type": "stream",
     "text": [
      "Progress: 78.72526511424512 %\n"
     ]
    },
    {
     "name": "stderr",
     "output_type": "stream",
     "text": [
      " 80%|███████▉  | 7301/9147 [18:27:33<2:50:30,  5.54s/it]"
     ]
    },
    {
     "name": "stdout",
     "output_type": "stream",
     "text": [
      "Progress: 79.81851973324588 %\n"
     ]
    },
    {
     "name": "stderr",
     "output_type": "stream",
     "text": [
      " 81%|████████  | 7401/9147 [18:44:15<4:14:10,  8.73s/it]"
     ]
    },
    {
     "name": "stdout",
     "output_type": "stream",
     "text": [
      "Progress: 80.91177435224664 %\n"
     ]
    },
    {
     "name": "stderr",
     "output_type": "stream",
     "text": [
      " 82%|████████▏ | 7501/9147 [19:00:34<4:26:38,  9.72s/it]"
     ]
    },
    {
     "name": "stdout",
     "output_type": "stream",
     "text": [
      "Progress: 82.00502897124741 %\n"
     ]
    },
    {
     "name": "stderr",
     "output_type": "stream",
     "text": [
      " 83%|████████▎ | 7589/9147 [19:15:36<6:21:01, 14.67s/it]"
     ]
    },
    {
     "name": "stdout",
     "output_type": "stream",
     "text": [
      "Error code: 429 - {'error': {'message': 'Rate limit reached for model `llama3-70b-8192` in organization `org_01hwchy37kf5w8yf0msbakbjt2` on tokens per minute (TPM): Limit 3000, Used 2766, Requested ~459. Please try again in 4.482s. Visit https://console.groq.com/docs/rate-limits for more information.', 'type': 'tokens', 'code': 'rate_limit_exceeded'}}\n",
      "Error at index: 7588\n"
     ]
    },
    {
     "name": "stderr",
     "output_type": "stream",
     "text": [
      " 83%|████████▎ | 7601/9147 [19:18:03<3:38:55,  8.50s/it]"
     ]
    },
    {
     "name": "stdout",
     "output_type": "stream",
     "text": [
      "Progress: 83.09828359024817 %\n"
     ]
    },
    {
     "name": "stderr",
     "output_type": "stream",
     "text": [
      " 84%|████████▍ | 7701/9147 [19:34:38<3:23:09,  8.43s/it]"
     ]
    },
    {
     "name": "stdout",
     "output_type": "stream",
     "text": [
      "Progress: 84.19153820924893 %\n"
     ]
    },
    {
     "name": "stderr",
     "output_type": "stream",
     "text": [
      " 85%|████████▌ | 7801/9147 [19:51:11<3:37:21,  9.69s/it]"
     ]
    },
    {
     "name": "stdout",
     "output_type": "stream",
     "text": [
      "Progress: 85.2847928282497 %\n"
     ]
    },
    {
     "name": "stderr",
     "output_type": "stream",
     "text": [
      " 86%|████████▋ | 7901/9147 [20:07:18<1:43:48,  5.00s/it] "
     ]
    },
    {
     "name": "stdout",
     "output_type": "stream",
     "text": [
      "Progress: 86.37804744725047 %\n"
     ]
    },
    {
     "name": "stderr",
     "output_type": "stream",
     "text": [
      " 87%|████████▋ | 8001/9147 [20:23:46<3:29:36, 10.97s/it]"
     ]
    },
    {
     "name": "stdout",
     "output_type": "stream",
     "text": [
      "Progress: 87.47130206625123 %\n"
     ]
    },
    {
     "name": "stderr",
     "output_type": "stream",
     "text": [
      " 89%|████████▊ | 8101/9147 [20:40:33<2:43:10,  9.36s/it]"
     ]
    },
    {
     "name": "stdout",
     "output_type": "stream",
     "text": [
      "Progress: 88.564556685252 %\n"
     ]
    },
    {
     "name": "stderr",
     "output_type": "stream",
     "text": [
      " 90%|████████▉ | 8201/9147 [20:58:05<2:32:39,  9.68s/it]"
     ]
    },
    {
     "name": "stdout",
     "output_type": "stream",
     "text": [
      "Progress: 89.65781130425276 %\n"
     ]
    },
    {
     "name": "stderr",
     "output_type": "stream",
     "text": [
      " 91%|█████████ | 8301/9147 [21:15:01<1:08:13,  4.84s/it]"
     ]
    },
    {
     "name": "stdout",
     "output_type": "stream",
     "text": [
      "Progress: 90.75106592325352 %\n"
     ]
    },
    {
     "name": "stderr",
     "output_type": "stream",
     "text": [
      " 92%|█████████▏| 8401/9147 [21:32:39<2:17:01, 11.02s/it]"
     ]
    },
    {
     "name": "stdout",
     "output_type": "stream",
     "text": [
      "Progress: 91.84432054225428 %\n"
     ]
    },
    {
     "name": "stderr",
     "output_type": "stream",
     "text": [
      " 93%|█████████▎| 8500/9147 [21:50:02<1:41:25,  9.41s/it]"
     ]
    },
    {
     "name": "stdout",
     "output_type": "stream",
     "text": [
      "upstream connect error or disconnect/reset before headers. reset reason: remote connection failure, transport failure reason: delayed connect error: 111\n",
      "Error at index: 8499\n"
     ]
    },
    {
     "name": "stderr",
     "output_type": "stream",
     "text": [
      " 93%|█████████▎| 8501/9147 [21:50:10<1:36:09,  8.93s/it]"
     ]
    },
    {
     "name": "stdout",
     "output_type": "stream",
     "text": [
      "upstream connect error or disconnect/reset before headers. reset reason: connection timeout\n",
      "Error at index: 8500\n"
     ]
    },
    {
     "name": "stderr",
     "output_type": "stream",
     "text": [
      " 94%|█████████▍| 8601/9147 [22:03:13<1:54:34, 12.59s/it]"
     ]
    },
    {
     "name": "stdout",
     "output_type": "stream",
     "text": [
      "Progress: 94.03082978025581 %\n"
     ]
    },
    {
     "name": "stderr",
     "output_type": "stream",
     "text": [
      " 95%|█████████▌| 8701/9147 [22:20:27<1:10:46,  9.52s/it]"
     ]
    },
    {
     "name": "stdout",
     "output_type": "stream",
     "text": [
      "Progress: 95.12408439925659 %\n"
     ]
    },
    {
     "name": "stderr",
     "output_type": "stream",
     "text": [
      " 96%|█████████▌| 8801/9147 [22:36:38<1:13:39, 12.77s/it]"
     ]
    },
    {
     "name": "stdout",
     "output_type": "stream",
     "text": [
      "Progress: 96.21733901825735 %\n"
     ]
    },
    {
     "name": "stderr",
     "output_type": "stream",
     "text": [
      " 97%|█████████▋| 8901/9147 [22:52:40<40:28,  9.87s/it]  "
     ]
    },
    {
     "name": "stdout",
     "output_type": "stream",
     "text": [
      "Progress: 97.31059363725811 %\n"
     ]
    },
    {
     "name": "stderr",
     "output_type": "stream",
     "text": [
      " 98%|█████████▊| 9001/9147 [23:08:33<28:55, 11.89s/it]"
     ]
    },
    {
     "name": "stdout",
     "output_type": "stream",
     "text": [
      "Progress: 98.40384825625888 %\n"
     ]
    },
    {
     "name": "stderr",
     "output_type": "stream",
     "text": [
      " 99%|█████████▉| 9101/9147 [23:24:51<07:10,  9.37s/it]"
     ]
    },
    {
     "name": "stdout",
     "output_type": "stream",
     "text": [
      "Progress: 99.49710287525964 %\n"
     ]
    },
    {
     "name": "stderr",
     "output_type": "stream",
     "text": [
      "100%|██████████| 9147/9147 [23:31:52<00:00,  9.26s/it]\n"
     ]
    },
    {
     "data": {
      "text/html": [
       "<div>\n",
       "<style scoped>\n",
       "    .dataframe tbody tr th:only-of-type {\n",
       "        vertical-align: middle;\n",
       "    }\n",
       "\n",
       "    .dataframe tbody tr th {\n",
       "        vertical-align: top;\n",
       "    }\n",
       "\n",
       "    .dataframe thead th {\n",
       "        text-align: right;\n",
       "    }\n",
       "</style>\n",
       "<table border=\"1\" class=\"dataframe\">\n",
       "  <thead>\n",
       "    <tr style=\"text-align: right;\">\n",
       "      <th></th>\n",
       "      <th>paragraphText</th>\n",
       "      <th>reactionSmiles</th>\n",
       "      <th>productSmiles</th>\n",
       "      <th>title</th>\n",
       "      <th>Rf</th>\n",
       "      <th>Solvent_A</th>\n",
       "      <th>Solvent_B</th>\n",
       "      <th>Percent_A</th>\n",
       "      <th>Percent_B</th>\n",
       "      <th>Additive_C</th>\n",
       "      <th>Percent_C</th>\n",
       "    </tr>\n",
       "  </thead>\n",
       "  <tbody>\n",
       "    <tr>\n",
       "      <th>0</th>\n",
       "      <td>To a flame-dried round-bottomed flask was adde...</td>\n",
       "      <td>[CH2:1]([OH:11])[CH2:2][CH2:3][CH2:4][CH2:5][C...</td>\n",
       "      <td>['O1C(CCCC1)OCCCCCCCCC#C']</td>\n",
       "      <td>NaN</td>\n",
       "      <td>0.30</td>\n",
       "      <td>EtOAc</td>\n",
       "      <td>Hex</td>\n",
       "      <td>5</td>\n",
       "      <td>95</td>\n",
       "      <td>None</td>\n",
       "      <td>None</td>\n",
       "    </tr>\n",
       "    <tr>\n",
       "      <th>1</th>\n",
       "      <td>A flame-dried round-bottomed flask was charged...</td>\n",
       "      <td>[O:1]1[CH2:6][CH2:5][CH2:4][CH2:3][CH:2]1[O:7]...</td>\n",
       "      <td>['COC(C#CCCCCCCCCOC1OCCCC1)=O']</td>\n",
       "      <td>NaN</td>\n",
       "      <td>0.33</td>\n",
       "      <td>EtOAc</td>\n",
       "      <td>Hex</td>\n",
       "      <td>10</td>\n",
       "      <td>90</td>\n",
       "      <td>None</td>\n",
       "      <td>None</td>\n",
       "    </tr>\n",
       "    <tr>\n",
       "      <th>2</th>\n",
       "      <td>To a flame-dried round-bottomed flask equipped...</td>\n",
       "      <td>N(C(C)C)C(C)C.[Li]CCCC.[SnH:13]([CH2:22][CH2:2...</td>\n",
       "      <td>['O1C(CCCC1)OCCCCCCCC\\\\C(=C/C(=O)OC)\\\\[Sn](CCC...</td>\n",
       "      <td>NaN</td>\n",
       "      <td>0.30</td>\n",
       "      <td>EtOAc</td>\n",
       "      <td>Hex</td>\n",
       "      <td>5</td>\n",
       "      <td>95</td>\n",
       "      <td>None</td>\n",
       "      <td>None</td>\n",
       "    </tr>\n",
       "    <tr>\n",
       "      <th>3</th>\n",
       "      <td>To a flamed-dried round-bottomed flask was add...</td>\n",
       "      <td>[O:1]1[CH2:6][CH2:5][CH2:4][CH2:3][CH:2]1[O:7]...</td>\n",
       "      <td>['O1C(CCCC1)OCCCCCCCC\\\\C(=C/C(=O)OC)\\\\C(=C\\\\C(...</td>\n",
       "      <td>NaN</td>\n",
       "      <td>0.19</td>\n",
       "      <td>EtOAc</td>\n",
       "      <td>Hex</td>\n",
       "      <td>10</td>\n",
       "      <td>90</td>\n",
       "      <td>None</td>\n",
       "      <td>None</td>\n",
       "    </tr>\n",
       "    <tr>\n",
       "      <th>4</th>\n",
       "      <td>A flame-dried round-bottomed flask was charged...</td>\n",
       "      <td>[O:1]1[CH2:6][CH2:5][CH2:4][CH2:3][CH:2]1[O:7]...</td>\n",
       "      <td>['O1C(CCCC1)OCCCCCCCCC(CC(=O)OC)=C(CC(=O)OC)CC...</td>\n",
       "      <td>NaN</td>\n",
       "      <td>0.41</td>\n",
       "      <td>EtOAc</td>\n",
       "      <td>Hex</td>\n",
       "      <td>20</td>\n",
       "      <td>80</td>\n",
       "      <td>None</td>\n",
       "      <td>None</td>\n",
       "    </tr>\n",
       "  </tbody>\n",
       "</table>\n",
       "</div>"
      ],
      "text/plain": [
       "                                       paragraphText  \\\n",
       "0  To a flame-dried round-bottomed flask was adde...   \n",
       "1  A flame-dried round-bottomed flask was charged...   \n",
       "2  To a flame-dried round-bottomed flask equipped...   \n",
       "3  To a flamed-dried round-bottomed flask was add...   \n",
       "4  A flame-dried round-bottomed flask was charged...   \n",
       "\n",
       "                                      reactionSmiles  \\\n",
       "0  [CH2:1]([OH:11])[CH2:2][CH2:3][CH2:4][CH2:5][C...   \n",
       "1  [O:1]1[CH2:6][CH2:5][CH2:4][CH2:3][CH:2]1[O:7]...   \n",
       "2  N(C(C)C)C(C)C.[Li]CCCC.[SnH:13]([CH2:22][CH2:2...   \n",
       "3  [O:1]1[CH2:6][CH2:5][CH2:4][CH2:3][CH:2]1[O:7]...   \n",
       "4  [O:1]1[CH2:6][CH2:5][CH2:4][CH2:3][CH:2]1[O:7]...   \n",
       "\n",
       "                                       productSmiles title    Rf Solvent_A  \\\n",
       "0                         ['O1C(CCCC1)OCCCCCCCCC#C']   NaN  0.30     EtOAc   \n",
       "1                    ['COC(C#CCCCCCCCCOC1OCCCC1)=O']   NaN  0.33     EtOAc   \n",
       "2  ['O1C(CCCC1)OCCCCCCCC\\\\C(=C/C(=O)OC)\\\\[Sn](CCC...   NaN  0.30     EtOAc   \n",
       "3  ['O1C(CCCC1)OCCCCCCCC\\\\C(=C/C(=O)OC)\\\\C(=C\\\\C(...   NaN  0.19     EtOAc   \n",
       "4  ['O1C(CCCC1)OCCCCCCCCC(CC(=O)OC)=C(CC(=O)OC)CC...   NaN  0.41     EtOAc   \n",
       "\n",
       "  Solvent_B Percent_A Percent_B Additive_C Percent_C  \n",
       "0       Hex         5        95       None      None  \n",
       "1       Hex        10        90       None      None  \n",
       "2       Hex         5        95       None      None  \n",
       "3       Hex        10        90       None      None  \n",
       "4       Hex        20        80       None      None  "
      ]
     },
     "execution_count": 15,
     "metadata": {},
     "output_type": "execute_result"
    }
   ],
   "source": [
    "df_4_processed = get_values(df_4)\n",
    "df_4_processed.head()"
   ]
  },
  {
   "cell_type": "markdown",
   "metadata": {},
   "source": [
    "Finally got the resulting dataframe and quickly saved it!"
   ]
  },
  {
   "cell_type": "code",
   "execution_count": 16,
   "metadata": {},
   "outputs": [],
   "source": [
    "df_4_processed.to_csv(r'C:\\Users\\milen\\git\\ppChem\\PPChem_TLC\\AfterRFfilter(4)_processed.csv', index=False)"
   ]
  },
  {
   "cell_type": "code",
   "execution_count": 17,
   "metadata": {},
   "outputs": [
    {
     "data": {
      "text/plain": [
       "(9147, 11)"
      ]
     },
     "execution_count": 17,
     "metadata": {},
     "output_type": "execute_result"
    }
   ],
   "source": [
    "df_4_processed.shape"
   ]
  },
  {
   "cell_type": "markdown",
   "metadata": {},
   "source": [
    "# 4. Cleaning of the Data 🧹\n",
    "Now we created new rows for the extracted values. In the following, we need to process the data further, to first drop the rows that don't include an Rf and were not filtered out in the first function, to convert the types from `str` to `int` for the Rf values and check, if the percent add up to 100 %, to see which solvents are used to create their corresponding SMILES and later molecular descriptors using `RDkit`. Furthermore, in some procedures, a third additive is added to the solvent mixture, which makes the data even more complex and on top of that we found out, that the calculation of the solvent ratio in percent often is not matching for those cases. To simplify the dataset, we thus decided to filter out those entries with a third additive. Lastly, the LLM partly took retention times from column chromatography as Rf values, so to filter out those, we exclude Rf values >1. However, when generally testing the performance of the LLM in combination with regex extraction, in the examples we checked (taken out the exceptions that were previously mentioned and recorded) it worked perfectly well."
   ]
  },
  {
   "cell_type": "markdown",
   "metadata": {},
   "source": [
    "### 4.1 Functions for the clean up\n",
    "This first function `clean_up` does exactly what described in the previous paragraph. Over a bit of time and after some testing, we finalized this function to its current form to exclude all eventualities. Ater this we still had the problem of converting the solvents to some form, that can be fed into a ML model for training. As we knew from some cases of the previous tests we did with smaller dataframes, the LLM sometimes creates weird responses which don't meet the column standards we wanted. That's when we decided to create the `get_solvents` function, to not only get an overview of which solvents were frequently used but also an overview of potential errors that could occur. Based on this list that we got, we modified the `convert_solvents` function until it was bulletproof from our point of view. "
   ]
  },
  {
   "cell_type": "code",
   "execution_count": 11,
   "metadata": {},
   "outputs": [],
   "source": [
    "def clean_up(Dataframe: pd.DataFrame, tolerance: float = 1):\n",
    "    \"\"\"1. Delets all row whitout Rf value or Rf value over 1.0 and without solvent information.\n",
    "       2. Converts percentage of solvents in a Dataframe from str to float and check if they add up to 100, else drop them.\n",
    "       3. Strips productSMILES str to a usable SMILES str.\n",
    "\n",
    "    Args: \n",
    "        Dataframe (_type_): Dataframe containing the processed data from the get_value function.\n",
    "        Dataframe needs to have following columns: 'productSmiles,' 'Rf', 'Percent_A', 'Percent_B'\n",
    "        tolerance (_type_): float, default = 1, tolerance for the sum of the percentages of the solvents (default is 100% +- 1%)\n",
    "\n",
    "    \"\"\"\n",
    "    size_pre_cleaning = Dataframe.shape[0]  # get the size of the dataframe\n",
    "    # Drop rows without Rf values\n",
    "    Dataframe.dropna(subset=['Rf'], inplace = True) \n",
    "    \n",
    "    # Convert Rf value to float\n",
    "    Dataframe['Rf'] = Dataframe['Rf'].astype(float)\n",
    "    \n",
    "    #finds indicies with Rf values over 1.0\n",
    "    indices_false_Rf = Dataframe[Dataframe[\"Rf\"] > 1].index \n",
    "    Dataframe.drop(indices_false_Rf,inplace = True) #drops rows with false Rf values\n",
    "    \n",
    "    #check if at least one solvent (either solvent A or solvent B) is given (so check that solvent A and solvent B are not None)\n",
    "    Dataframe = Dataframe[Dataframe['Solvent_A'].notnull() & Dataframe['Solvent_B'].notnull()].copy()\n",
    "    \n",
    "    #convert 'None' entry to 0\n",
    "    Dataframe.loc[:, 'Percent_A'] = Dataframe['Percent_A'].apply(lambda x: 0 if x is None else x)\n",
    "    \n",
    "    #convert 'None' entry to 0\n",
    "    Dataframe.loc[:, 'Percent_B'] = Dataframe['Percent_B'].apply(lambda x: 0 if x is None else x)\n",
    "    \n",
    "    # convert Percentage to float\n",
    "    Dataframe.loc[:, 'Percent_A'] = Dataframe['Percent_A'].apply(lambda x: float(x)) \n",
    "    \n",
    "    #convert Percantage to float\n",
    "    Dataframe.loc[:, 'Percent_B'] = Dataframe['Percent_B'].apply(lambda x: float(x)) \n",
    "    \n",
    "    # Drop rows where 'additive_C' is not None\n",
    "    Dataframe = Dataframe[Dataframe['Additive_C'].isnull()].copy()\n",
    "    \n",
    "    # remove [' and '] from the productSimles\n",
    "    Dataframe.loc[:, 'productSmiles'] = Dataframe['productSmiles'].apply(lambda x: x[1:-1]) \n",
    "    \n",
    "    # check if the sum of the percentages is 100, this at the same time kicks out entries with additives C (+ consider limitations of floating-point arithmetic in the cases of 33.3333 and 66.667)\n",
    "    Dataframe.loc[:, 'sum'] = Dataframe['Percent_A'] + Dataframe['Percent_B']\n",
    "    Dataframe = Dataframe[(Dataframe['sum'] >= 100 - tolerance) & (Dataframe['sum'] <= 100 + tolerance)].copy()\n",
    "    \n",
    "    Dataframe.reset_index(drop=True, inplace=True) # sets the index new from 1 to end\n",
    "\n",
    "    size_post_cleaning = Dataframe.shape[0]  # get the size of the dataframe after cleaning\n",
    "    print(f\"Size of the dataframe before cleaning: {size_pre_cleaning}\")\n",
    "    print(f\"Size of the dataframe after cleaning: {size_post_cleaning}\")\n",
    "    print(f\"Number of rows dropped: {size_pre_cleaning - size_post_cleaning}\")\n",
    "    print(f\"Percentage of rows dropped: {(size_pre_cleaning - size_post_cleaning) / size_pre_cleaning * 100}%\")\n",
    "    return Dataframe\n"
   ]
  },
  {
   "cell_type": "code",
   "execution_count": 12,
   "metadata": {},
   "outputs": [],
   "source": [
    "def get_solvents(Dataframe: pd.DataFrame):\n",
    "    \"\"\"Function that iterates over all solvent entries in the dataframe and checks, if the solvent mentioned is already in the list. If not, it adds the solvent to the list.\n",
    "\n",
    "    Args:\n",
    "        Dataframe (_type_): dataframe with the extracted data from the US patents, preprocessed with the get_values function.\n",
    "    \"\"\"\n",
    "    solvents = []\n",
    "    \n",
    "    for index, row in Dataframe.iterrows():\n",
    "        solvent_a = row['Solvent_A']\n",
    "        solvent_b = row['Solvent_B']\n",
    "        \n",
    "        if solvent_a not in solvents and solvent_a is not None:\n",
    "            solvents.append(solvent_a)\n",
    "        if solvent_b not in solvents and solvent_b is not None:\n",
    "            solvents.append(solvent_b)\n",
    "        else:\n",
    "            continue\n",
    "        \n",
    "    return solvents"
   ]
  },
  {
   "cell_type": "code",
   "execution_count": 13,
   "metadata": {},
   "outputs": [],
   "source": [
    "def convert_solvents(Dataframe: pd.DataFrame):\n",
    "    \"\"\"Converts selected solvent names (based on frequency) in the dataframe to a standardized form.\n",
    "\n",
    "    Args:\n",
    "        Dataframe (pd.DataFrame): Dataframe containing the extracted data from the US patents, \n",
    "                                preprocessed with the get_values and clean_up function.\n",
    "                                \n",
    "    Returns:\n",
    "        Dataframe (pd.DataFrame): Dataframe with standardized solvent names and SMILES.\n",
    "        df_sorted_out (pd.DataFrame): Dataframe containing rows with solvents that could not be converted.\n",
    "    \"\"\"\n",
    "    Dataframe = Dataframe.copy()\n",
    "    df_sorted_out = pd.DataFrame()\n",
    "    indices_to_drop = []\n",
    "    size_pre_conversion = Dataframe.shape[0]  # get the size of the dataframe\n",
    "    \n",
    "    for index, row in Dataframe.iterrows():\n",
    "        for solvent_column in ['Solvent_A', 'Solvent_B']: # iterate through the solvent columns\n",
    "            solvent_name = row[solvent_column].lower()\n",
    "            \n",
    "            if '/' in solvent_name or '%' in solvent_name or '(' in solvent_name or ')' in solvent_name: # if there is a mixture of solvents, take out the entire row\n",
    "                df_sorted_out = pd.concat([df_sorted_out, pd.DataFrame(row).transpose()], ignore_index=True)\n",
    "                indices_to_drop.append(index) # add the index to the list of indices to drop not to change size of Dataframe with every iteration\n",
    "                \n",
    "            elif 'dcm' in solvent_name or 'dichlorometh' in solvent_name or 'methylene chloride' in solvent_name or 'ch2cl2' in solvent_name and 'chloroform' not in solvent_name and 'trichloromethane' not in solvent_name: # exclude chloroform and trichloromethane for substring search\n",
    "                Dataframe.at[index, solvent_column] = 'DCM'     \n",
    "                Dataframe.at[index, solvent_column + '_Smiles'] = 'ClCCl' # add SMILES of the solvent A \n",
    "                \n",
    "            elif 'meoh' in solvent_name or 'methanol' in solvent_name or 'ch3oh' in solvent_name:\n",
    "                Dataframe.at[index, solvent_column] = 'MeOH'\n",
    "                Dataframe.at[index, solvent_column + '_Smiles'] = 'CO'\n",
    "                \n",
    "            elif 'acetonitrile' in solvent_name or 'acetonitril' in solvent_name or 'mecn' in solvent_name or 'ch3cn' in solvent_name or 'acn' in solvent_name:\n",
    "                Dataframe.at[index, solvent_column] = 'MeCN'\n",
    "                Dataframe.at[index, solvent_column + '_Smiles'] = 'CC#N'\n",
    "                \n",
    "            elif 'toluene' in solvent_name:\n",
    "                Dataframe.at[index, solvent_column] = 'Toluene'\n",
    "                Dataframe.at[index, solvent_column + '_Smiles'] = 'Cc1ccccc1'\n",
    "                \n",
    "            elif 'hexane' in solvent_name or 'hex' in solvent_name or 'n-hex' in solvent_name or 'hexanes' in solvent_name and 'cycl' not in solvent_name: # exclude cyclohexane\n",
    "                Dataframe.at[index, solvent_column] = 'Hexane'\n",
    "                Dataframe.at[index, solvent_column + '_Smiles'] = 'CCCCCC'\n",
    "                \n",
    "            elif 'chloroform' in solvent_name or 'trichloromethane' in solvent_name or 'chcl3' in solvent_name:\n",
    "                Dataframe.at[index, solvent_column] = 'Chloroform'\n",
    "                Dataframe.at[index, solvent_column + '_Smiles'] = 'ClC(Cl)Cl'\n",
    "                \n",
    "            elif 'acetone' in solvent_name or 'me2co' in solvent_name or 'ch3coch3' in solvent_name or '2-propanone' in solvent_name or 'dimethyl ketone' in solvent_name:\n",
    "                Dataframe.at[index, solvent_column] = 'Acetone'\n",
    "                Dataframe.at[index, solvent_column + '_Smiles'] = 'CC(=O)C'\n",
    "                \n",
    "            elif 'etoh' in solvent_name or 'ethanol' in solvent_name or 'ch3ch2oh' in solvent_name or 'alcohol' in solvent_name:\n",
    "                Dataframe.at[index, solvent_column] = 'EtOH'\n",
    "                Dataframe.at[index, solvent_column + '_Smiles'] = 'CCO'\n",
    "                \n",
    "            elif 'ether' in solvent_name or 'diethylether' in solvent_name or 'et2o' in solvent_name or 'diethyl ether' in solvent_name:\n",
    "                Dataframe.at[index, solvent_column] = 'diethyl ether'\n",
    "                Dataframe.at[index, solvent_column + '_Smiles'] = 'CCOCC'\n",
    "                \n",
    "            elif 'hep' in solvent_name or 'heptane' in solvent_name or 'n-heptane' in solvent_name or 'heptanes' in solvent_name:\n",
    "                Dataframe.at[index, solvent_column] = 'heptane'\n",
    "                Dataframe.at[index, solvent_column + '_Smiles'] = 'CCCCCCC'\n",
    "                \n",
    "            elif 'petroleum ether' in solvent_name or 'light petroleum' in solvent_name or 'pe' in solvent_name or 'pet ether' in solvent_name or 'pet. ether' in solvent_name or 'pet.ether' in solvent_name or 'petroleum ether (bp 40-60)' in solvent_name or 'petroleum ether (bp 60-80)' in solvent_name or 'petroleum ether (bp 80-100)' in solvent_name or 'petroleum ether (bp 100-140)' in solvent_name or 'petroleum ether (bp 140-180)' in solvent_name or 'petroleum ether (bp 180-210)' in solvent_name or 'petroleum ether (bp 210-240)' in solvent_name or 'petroleum ether (bp 240-270)' in solvent_name or 'petroleum ether (bp 270-300)' in solvent_name or 'petroleum ether (bp 300-400)' in solvent_name or 'petroleum ether (bp 400-600)' in solvent_name or 'petroleum ether (bp 600-800)' in solvent_name or 'petroleum ether (bp 800-1000)' in solvent_name or 'petroleum ether (bp 1000-1200)' in solvent_name or 'petroleum ether (bp 1200-1400)' in solvent_name or 'petroleum ether (bp 1400-1600)' in solvent_name or 'petroleum ether (bp 1600-1800)' in solvent_name or 'petroleum ether (bp 1800-2000)' in solvent_name or 'petroleum ether (bp 2000-2200)' in solvent_name or 'petroleum ether (bp 2200-2400)' in solvent_name or 'petroleum ether (bp 2400-2600)' in solvent_name or 'petroleum ether (bp 2600-2800)' in solvent_name or 'petroleum ether (bp 2800-3000)' in solvent_name or 'petroleum ether (bp 3000-3200)' in solvent_name or 'petroleum ether (bp 3200-3400)' in solvent_name or 'petroleum ether (bp 3400-3600)' in solvent_name or 'petroleum ether (bp 3600-3800)' in solvent_name or 'petroleum ether (bp 3800-4000)' in solvent_name or 'petroleum ether (bp 4000-4200)' in solvent_name:\n",
    "                Dataframe.at[index, solvent_column] = 'petroleum ether (2-methylpentane)'\n",
    "                Dataframe.at[index, solvent_column + '_Smiles'] = 'CCCC(C)C'\n",
    "                \n",
    "            elif 'triethylamine' in solvent_name or 'et3n' in solvent_name or 'tea' in solvent_name:\n",
    "                Dataframe.at[index, solvent_column] = 'triethylamine'\n",
    "                Dataframe.at[index, solvent_column + '_Smiles'] = 'CCN(CC)CC'\n",
    "                \n",
    "            elif 'etoac' in solvent_name or 'ethyl acetate' in solvent_name or 'ethylacetate' in solvent_name or 'ethylacetat' in solvent_name or 'ea' in solvent_name or 'ethanol acetate' in solvent_name:\n",
    "                Dataframe.at[index, solvent_column] = 'EtOAc'\n",
    "                Dataframe.at[index, solvent_column + '_Smiles'] = 'O=C(OCC)C' \n",
    "                \n",
    "            elif 'thf' in solvent_name or 'tetrahydrofuran' in solvent_name:\n",
    "                Dataframe.at[index, solvent_column] = 'THF'\n",
    "                Dataframe.at[index, solvent_column + '_Smiles'] = 'C1CCOC1'\n",
    "                \n",
    "            elif 'none' in solvent_name:\n",
    "                Dataframe.at[index, solvent_column + '_Smiles'] = None\n",
    "                \n",
    "            else: # if the solvent is not in the list, add it to the other dataframe but still sort it out. We don't want things to get too complex.\n",
    "                df_sorted_out = pd.concat([df_sorted_out, pd.DataFrame(row).transpose()], ignore_index=True)\n",
    "                indices_to_drop.append(index) # add the index to the list of indices to drop not to change size of Dataframe with every iteration\n",
    "\n",
    "    Dataframe = Dataframe.drop(indices_to_drop)\n",
    "    Dataframe.reset_index(drop=True, inplace=True)\n",
    "    df_sorted_out.reset_index(drop=True, inplace=True)\n",
    "    \n",
    "    size_post_conversion = Dataframe.shape[0]  # get the size of the dataframe after conversion to see how many rows were dropped\n",
    "    print(f\"Size of the dataframe before conversion: {size_pre_conversion}\")\n",
    "    print(f\"Size of the dataframe after conversion: {size_post_conversion}\")\n",
    "    print(f\"Number of rows dropped: {size_pre_conversion - size_post_conversion}\")\n",
    "    print(f\"Percentage of rows dropped: {(size_pre_conversion - size_post_conversion) / size_pre_conversion * 100}%\")\n",
    "        \n",
    "    return Dataframe, df_sorted_out"
   ]
  },
  {
   "cell_type": "markdown",
   "metadata": {},
   "source": [
    "### 4.2 Processing of the large dataset\n",
    "After some trying out and testing on smaller datasets to perfectionalize the `convert_solvents` function, we processed the big dataset that we recombined after we had split it for the LLM extraction.\n"
   ]
  },
  {
   "cell_type": "code",
   "execution_count": 29,
   "metadata": {},
   "outputs": [
    {
     "name": "stdout",
     "output_type": "stream",
     "text": [
      "Size of the dataframe before cleaning: 36123\n",
      "Size of the dataframe after cleaning: 16617\n",
      "Number of rows dropped: 19506\n",
      "Percentage of rows dropped: 53.998837305871604%\n",
      "shape: (16617, 13)\n",
      "Size of the dataframe before conversion: 16617\n",
      "Size of the dataframe after conversion: 15403\n",
      "Number of rows dropped: 1214\n",
      "Percentage of rows dropped: 7.3057711981705475%\n",
      "shape: (15403, 15)\n"
     ]
    },
    {
     "data": {
      "text/html": [
       "<div>\n",
       "<style scoped>\n",
       "    .dataframe tbody tr th:only-of-type {\n",
       "        vertical-align: middle;\n",
       "    }\n",
       "\n",
       "    .dataframe tbody tr th {\n",
       "        vertical-align: top;\n",
       "    }\n",
       "\n",
       "    .dataframe thead th {\n",
       "        text-align: right;\n",
       "    }\n",
       "</style>\n",
       "<table border=\"1\" class=\"dataframe\">\n",
       "  <thead>\n",
       "    <tr style=\"text-align: right;\">\n",
       "      <th></th>\n",
       "      <th>Unnamed: 0</th>\n",
       "      <th>paragraphText</th>\n",
       "      <th>reactionSmiles</th>\n",
       "      <th>productSmiles</th>\n",
       "      <th>title</th>\n",
       "      <th>Rf</th>\n",
       "      <th>Solvent_A</th>\n",
       "      <th>Solvent_B</th>\n",
       "      <th>Percent_A</th>\n",
       "      <th>Percent_B</th>\n",
       "      <th>Additive_C</th>\n",
       "      <th>Percent_C</th>\n",
       "      <th>sum</th>\n",
       "      <th>Solvent_A_Smiles</th>\n",
       "      <th>Solvent_B_Smiles</th>\n",
       "    </tr>\n",
       "  </thead>\n",
       "  <tbody>\n",
       "    <tr>\n",
       "      <th>0</th>\n",
       "      <td>2</td>\n",
       "      <td>A solution of 4-{[(phenylmethoxy)carbonylamino...</td>\n",
       "      <td>[C:1]1([CH2:7][O:8][C:9]([NH:11][CH2:12][C:13]...</td>\n",
       "      <td>'CON(C(=O)C1=CC=C(C=C1)CNC(=O)OCC1=CC=CC=C1)C'</td>\n",
       "      <td>Preparation of N-methoxy-N-methyl(4-{[(phenylm...</td>\n",
       "      <td>0.30</td>\n",
       "      <td>petroleum ether (2-methylpentane)</td>\n",
       "      <td>EtOAc</td>\n",
       "      <td>50.0</td>\n",
       "      <td>50.0</td>\n",
       "      <td>NaN</td>\n",
       "      <td>NaN</td>\n",
       "      <td>100.0</td>\n",
       "      <td>CCCC(C)C</td>\n",
       "      <td>O=C(OCC)C</td>\n",
       "    </tr>\n",
       "    <tr>\n",
       "      <th>1</th>\n",
       "      <td>3</td>\n",
       "      <td>Putative nitrilase up-mutants were assayed in ...</td>\n",
       "      <td>[CH3:1][C:2]1(C)S[C@@H]2[C@H](NC([C@H](N)C3C=C...</td>\n",
       "      <td>'O[C@@H](CC(=O)O)CC#N'</td>\n",
       "      <td>NaN</td>\n",
       "      <td>0.50</td>\n",
       "      <td>EtOAc</td>\n",
       "      <td>Hexane</td>\n",
       "      <td>50.0</td>\n",
       "      <td>50.0</td>\n",
       "      <td>NaN</td>\n",
       "      <td>NaN</td>\n",
       "      <td>100.0</td>\n",
       "      <td>O=C(OCC)C</td>\n",
       "      <td>CCCCCC</td>\n",
       "    </tr>\n",
       "    <tr>\n",
       "      <th>2</th>\n",
       "      <td>5</td>\n",
       "      <td>To 0.4 g N6-benzoyl-3′-O-(methylthiomethyl)-5′...</td>\n",
       "      <td>[C:1]([NH:9][C:10]1[C:11]2[N:12]=[CH:13][N:14]...</td>\n",
       "      <td>'C(C1=CC=CC=C1)(=O)NC=1C=2N=CN([C@H]3C[C@H](OC...</td>\n",
       "      <td>NaN</td>\n",
       "      <td>0.30</td>\n",
       "      <td>EtOAc</td>\n",
       "      <td>Hexane</td>\n",
       "      <td>70.0</td>\n",
       "      <td>30.0</td>\n",
       "      <td>NaN</td>\n",
       "      <td>NaN</td>\n",
       "      <td>100.0</td>\n",
       "      <td>O=C(OCC)C</td>\n",
       "      <td>CCCCCC</td>\n",
       "    </tr>\n",
       "    <tr>\n",
       "      <th>3</th>\n",
       "      <td>6</td>\n",
       "      <td>3.5 g N4-benzoyl-5′-O-tert-butyldimethylsilyl-...</td>\n",
       "      <td>[C:1]([NH:9][C:10]1[CH:30]=[CH:29][N:13]([C@@H...</td>\n",
       "      <td>'C(C1=CC=CC=C1)(=O)NC1=NC(N([C@H]2C[C@H](OCSC)...</td>\n",
       "      <td>NaN</td>\n",
       "      <td>0.40</td>\n",
       "      <td>EtOAc</td>\n",
       "      <td>Hexane</td>\n",
       "      <td>90.0</td>\n",
       "      <td>10.0</td>\n",
       "      <td>NaN</td>\n",
       "      <td>NaN</td>\n",
       "      <td>100.0</td>\n",
       "      <td>O=C(OCC)C</td>\n",
       "      <td>CCCCCC</td>\n",
       "    </tr>\n",
       "    <tr>\n",
       "      <th>4</th>\n",
       "      <td>7</td>\n",
       "      <td>To 0.5580 g N4-benzoyl-3′-O-(methylthiomethyl)...</td>\n",
       "      <td>[C:1]([NH:9][C:10]1[CH:33]=[CH:32][N:13]([C@@H...</td>\n",
       "      <td>'C(C1=CC=CC=C1)(=O)NC1=NC(N([C@H]2C[C@H](OCN=[...</td>\n",
       "      <td>NaN</td>\n",
       "      <td>0.50</td>\n",
       "      <td>EtOAc</td>\n",
       "      <td>Hexane</td>\n",
       "      <td>5.0</td>\n",
       "      <td>95.0</td>\n",
       "      <td>NaN</td>\n",
       "      <td>NaN</td>\n",
       "      <td>100.0</td>\n",
       "      <td>O=C(OCC)C</td>\n",
       "      <td>CCCCCC</td>\n",
       "    </tr>\n",
       "    <tr>\n",
       "      <th>5</th>\n",
       "      <td>17</td>\n",
       "      <td>2,2-Dimethylpropylmagnesium chloride (1 M-diet...</td>\n",
       "      <td>[CH3:1][C:2]([CH3:7])([CH3:6])[CH2:3][Mg]Cl.[C...</td>\n",
       "      <td>'C(C)(C)(C)C=1C=C(C=CC1)NC(C1=C(N=CC=C1)CC(C)(...</td>\n",
       "      <td>NaN</td>\n",
       "      <td>0.45</td>\n",
       "      <td>Toluene</td>\n",
       "      <td>EtOAc</td>\n",
       "      <td>67.0</td>\n",
       "      <td>33.0</td>\n",
       "      <td>NaN</td>\n",
       "      <td>NaN</td>\n",
       "      <td>100.0</td>\n",
       "      <td>Cc1ccccc1</td>\n",
       "      <td>O=C(OCC)C</td>\n",
       "    </tr>\n",
       "    <tr>\n",
       "      <th>6</th>\n",
       "      <td>18</td>\n",
       "      <td>2-(Difluoro(4-fluorophenyl)methyl)-6-methylthi...</td>\n",
       "      <td>[F:1][C:2]([F:21])([C:14]1[CH:19]=[CH:18][C:17...</td>\n",
       "      <td>'ClC=1C2=C(N=C(N1)C(C1=CC=C(C=C1)F)(F)F)SC(=C2)C'</td>\n",
       "      <td>NaN</td>\n",
       "      <td>0.70</td>\n",
       "      <td>EtOAc</td>\n",
       "      <td>Hexane</td>\n",
       "      <td>30.0</td>\n",
       "      <td>70.0</td>\n",
       "      <td>NaN</td>\n",
       "      <td>NaN</td>\n",
       "      <td>100.0</td>\n",
       "      <td>O=C(OCC)C</td>\n",
       "      <td>CCCCCC</td>\n",
       "    </tr>\n",
       "    <tr>\n",
       "      <th>7</th>\n",
       "      <td>28</td>\n",
       "      <td>NaH (58.1 mmol) was added to a solution of 1H-...</td>\n",
       "      <td>[H-].[Na+].[CH3:3][O:4][C:5]([C:7]1[CH:11]=[CH...</td>\n",
       "      <td>'COC(=O)C1=CN(C=C1)C(C)C'</td>\n",
       "      <td>Step D5: 1-Isopropyl-1H-pyrrole-3-carboxylic a...</td>\n",
       "      <td>0.22</td>\n",
       "      <td>EtOAc</td>\n",
       "      <td>heptane</td>\n",
       "      <td>16.0</td>\n",
       "      <td>83.0</td>\n",
       "      <td>NaN</td>\n",
       "      <td>NaN</td>\n",
       "      <td>99.0</td>\n",
       "      <td>O=C(OCC)C</td>\n",
       "      <td>CCCCCCC</td>\n",
       "    </tr>\n",
       "    <tr>\n",
       "      <th>8</th>\n",
       "      <td>30</td>\n",
       "      <td>Ra—Ni (EtOH) (230 mmol) was added to a solutio...</td>\n",
       "      <td>[Cl:1][C:2]1[C:3](=[O:12])[N:4]([CH3:11])[CH:5...</td>\n",
       "      <td>'NC=1C=C(C(N(C1)C)=O)Cl'</td>\n",
       "      <td>Step E5: 5-Amino-3-chloro-1-methyl-1H-pyridin-...</td>\n",
       "      <td>0.28</td>\n",
       "      <td>DCM</td>\n",
       "      <td>MeOH</td>\n",
       "      <td>90.0</td>\n",
       "      <td>10.0</td>\n",
       "      <td>NaN</td>\n",
       "      <td>NaN</td>\n",
       "      <td>100.0</td>\n",
       "      <td>ClCCl</td>\n",
       "      <td>CO</td>\n",
       "    </tr>\n",
       "    <tr>\n",
       "      <th>9</th>\n",
       "      <td>35</td>\n",
       "      <td>A saturated aqueous solution of NH4Cl (99 mL) ...</td>\n",
       "      <td>[NH4+].[Cl-].[Cl:3][C:4]1[C:5](=[O:22])[N:6]([...</td>\n",
       "      <td>'NC=1C=C(C(N(C1)CC1=CC=C(C=C1)OC)=O)Cl'</td>\n",
       "      <td>Step O4: 5-Amino-3-chloro-1-(4-methoxy-benzyl)...</td>\n",
       "      <td>0.53</td>\n",
       "      <td>DCM</td>\n",
       "      <td>MeOH</td>\n",
       "      <td>96.0</td>\n",
       "      <td>3.0</td>\n",
       "      <td>NaN</td>\n",
       "      <td>NaN</td>\n",
       "      <td>99.0</td>\n",
       "      <td>ClCCl</td>\n",
       "      <td>CO</td>\n",
       "    </tr>\n",
       "  </tbody>\n",
       "</table>\n",
       "</div>"
      ],
      "text/plain": [
       "   Unnamed: 0                                      paragraphText  \\\n",
       "0           2  A solution of 4-{[(phenylmethoxy)carbonylamino...   \n",
       "1           3  Putative nitrilase up-mutants were assayed in ...   \n",
       "2           5  To 0.4 g N6-benzoyl-3′-O-(methylthiomethyl)-5′...   \n",
       "3           6  3.5 g N4-benzoyl-5′-O-tert-butyldimethylsilyl-...   \n",
       "4           7  To 0.5580 g N4-benzoyl-3′-O-(methylthiomethyl)...   \n",
       "5          17  2,2-Dimethylpropylmagnesium chloride (1 M-diet...   \n",
       "6          18  2-(Difluoro(4-fluorophenyl)methyl)-6-methylthi...   \n",
       "7          28  NaH (58.1 mmol) was added to a solution of 1H-...   \n",
       "8          30  Ra—Ni (EtOH) (230 mmol) was added to a solutio...   \n",
       "9          35  A saturated aqueous solution of NH4Cl (99 mL) ...   \n",
       "\n",
       "                                      reactionSmiles  \\\n",
       "0  [C:1]1([CH2:7][O:8][C:9]([NH:11][CH2:12][C:13]...   \n",
       "1  [CH3:1][C:2]1(C)S[C@@H]2[C@H](NC([C@H](N)C3C=C...   \n",
       "2  [C:1]([NH:9][C:10]1[C:11]2[N:12]=[CH:13][N:14]...   \n",
       "3  [C:1]([NH:9][C:10]1[CH:30]=[CH:29][N:13]([C@@H...   \n",
       "4  [C:1]([NH:9][C:10]1[CH:33]=[CH:32][N:13]([C@@H...   \n",
       "5  [CH3:1][C:2]([CH3:7])([CH3:6])[CH2:3][Mg]Cl.[C...   \n",
       "6  [F:1][C:2]([F:21])([C:14]1[CH:19]=[CH:18][C:17...   \n",
       "7  [H-].[Na+].[CH3:3][O:4][C:5]([C:7]1[CH:11]=[CH...   \n",
       "8  [Cl:1][C:2]1[C:3](=[O:12])[N:4]([CH3:11])[CH:5...   \n",
       "9  [NH4+].[Cl-].[Cl:3][C:4]1[C:5](=[O:22])[N:6]([...   \n",
       "\n",
       "                                       productSmiles  \\\n",
       "0     'CON(C(=O)C1=CC=C(C=C1)CNC(=O)OCC1=CC=CC=C1)C'   \n",
       "1                             'O[C@@H](CC(=O)O)CC#N'   \n",
       "2  'C(C1=CC=CC=C1)(=O)NC=1C=2N=CN([C@H]3C[C@H](OC...   \n",
       "3  'C(C1=CC=CC=C1)(=O)NC1=NC(N([C@H]2C[C@H](OCSC)...   \n",
       "4  'C(C1=CC=CC=C1)(=O)NC1=NC(N([C@H]2C[C@H](OCN=[...   \n",
       "5  'C(C)(C)(C)C=1C=C(C=CC1)NC(C1=C(N=CC=C1)CC(C)(...   \n",
       "6  'ClC=1C2=C(N=C(N1)C(C1=CC=C(C=C1)F)(F)F)SC(=C2)C'   \n",
       "7                          'COC(=O)C1=CN(C=C1)C(C)C'   \n",
       "8                           'NC=1C=C(C(N(C1)C)=O)Cl'   \n",
       "9            'NC=1C=C(C(N(C1)CC1=CC=C(C=C1)OC)=O)Cl'   \n",
       "\n",
       "                                               title    Rf  \\\n",
       "0  Preparation of N-methoxy-N-methyl(4-{[(phenylm...  0.30   \n",
       "1                                                NaN  0.50   \n",
       "2                                                NaN  0.30   \n",
       "3                                                NaN  0.40   \n",
       "4                                                NaN  0.50   \n",
       "5                                                NaN  0.45   \n",
       "6                                                NaN  0.70   \n",
       "7  Step D5: 1-Isopropyl-1H-pyrrole-3-carboxylic a...  0.22   \n",
       "8  Step E5: 5-Amino-3-chloro-1-methyl-1H-pyridin-...  0.28   \n",
       "9  Step O4: 5-Amino-3-chloro-1-(4-methoxy-benzyl)...  0.53   \n",
       "\n",
       "                           Solvent_A Solvent_B  Percent_A  Percent_B  \\\n",
       "0  petroleum ether (2-methylpentane)     EtOAc       50.0       50.0   \n",
       "1                              EtOAc    Hexane       50.0       50.0   \n",
       "2                              EtOAc    Hexane       70.0       30.0   \n",
       "3                              EtOAc    Hexane       90.0       10.0   \n",
       "4                              EtOAc    Hexane        5.0       95.0   \n",
       "5                            Toluene     EtOAc       67.0       33.0   \n",
       "6                              EtOAc    Hexane       30.0       70.0   \n",
       "7                              EtOAc   heptane       16.0       83.0   \n",
       "8                                DCM      MeOH       90.0       10.0   \n",
       "9                                DCM      MeOH       96.0        3.0   \n",
       "\n",
       "  Additive_C  Percent_C    sum Solvent_A_Smiles Solvent_B_Smiles  \n",
       "0        NaN        NaN  100.0         CCCC(C)C        O=C(OCC)C  \n",
       "1        NaN        NaN  100.0        O=C(OCC)C           CCCCCC  \n",
       "2        NaN        NaN  100.0        O=C(OCC)C           CCCCCC  \n",
       "3        NaN        NaN  100.0        O=C(OCC)C           CCCCCC  \n",
       "4        NaN        NaN  100.0        O=C(OCC)C           CCCCCC  \n",
       "5        NaN        NaN  100.0        Cc1ccccc1        O=C(OCC)C  \n",
       "6        NaN        NaN  100.0        O=C(OCC)C           CCCCCC  \n",
       "7        NaN        NaN   99.0        O=C(OCC)C          CCCCCCC  \n",
       "8        NaN        NaN  100.0            ClCCl               CO  \n",
       "9        NaN        NaN   99.0            ClCCl               CO  "
      ]
     },
     "execution_count": 29,
     "metadata": {},
     "output_type": "execute_result"
    }
   ],
   "source": [
    "df = pd.read_csv(r'C:\\Users\\milen\\git\\ppChem\\PPChem_TLC\\After_LLM.csv')\n",
    "\n",
    "# Clean up the dataframe\n",
    "df = clean_up(df)\n",
    "print(f\"shape:\", df.shape)\n",
    "\n",
    "# convert the solvents into standardized form and add SMILES\n",
    "df, df_sorted_out = convert_solvents(df)\n",
    "print(f\"shape:\", df.shape)\n",
    "df.head(10)"
   ]
  },
  {
   "cell_type": "markdown",
   "metadata": {},
   "source": [
    "### 4.3 Processing of the SMILES\n",
    "The last step of the processing attacks the smiles column. For the machine learning model, we need some useful features that can be fed and thus need to convert the SMILES into a uniform form. While working on the processing of the product SMILES, we found that there are some issues that need to be solved:\n",
    " - some product SMILES represents salts. As performing a TLC with salts would not make sense and the necessary information for the workup to convert the salts into the neutral molecule was not extracted, feeding our model with salts and correlating a Rf value could bias the results. That's why we decided to also drop the entries with salts.\n",
    " - some entries contain not only one SMILES but a list. This is due to the formation of isomers within the reaction. In the case of enantiomers, there is no divergence in the Rf values. However, the Rf values for diastereoisomers of small molecules can vary, depending on their interactions with the stationary phase. Thus, we need to check, if, in the case of multiple products, they are enantiomers and drop those entries in case they are not. \n",
    " - for enantiomers, we need to remove the stereocentre on the atom which determines the enantiomers as we figured out, it would be easier for the model to learn those. Another approach could have been to double the entry and assign one enantiomer to each entry. This could be a potnetial outlook.\n",
    " - we extracted the product SMILES from the reaction SMILES to verify, if the product SMILES had been correctly extracted from the XML file. It turned out, that the reactions were atom-mapped, so also the mapping had to be removed.\n",
    " - lastly, of course all SMILES need to be canonicalized for internal comparison\n",
    " "
   ]
  },
  {
   "cell_type": "code",
   "execution_count": 5,
   "metadata": {},
   "outputs": [],
   "source": [
    "def remove_salts(df: pd.DataFrame, column_name: str):\n",
    "    \"\"\"Checks if SMILES is a salt and removes it in this case.\n",
    "\n",
    "    Args:\n",
    "        df (pd.DataFrame): pre-cleaned dataframe\n",
    "        column_name (str): productSmiles column\n",
    "\n",
    "    Returns:\n",
    "        df (pd.DataFrame): dataframe without rows that include salts\n",
    "    \"\"\"\n",
    "    # Find the indices of rows where the SMILES list contains a salt\n",
    "    indices_false_Rf = df[df[column_name].apply(lambda smiles_list: any('.' in smiles for smiles in smiles_list))].index \n",
    "\n",
    "    # Drop these rows from the DataFrame\n",
    "    df.drop(indices_false_Rf, inplace=True)\n",
    "    print(f\"Number of rows dropped: {len(indices_false_Rf)}\")\n",
    "    print(f\"Percentage of rows dropped: {len(indices_false_Rf) / df.shape[0] * 100}%\")\n",
    "\n",
    "    return df"
   ]
  },
  {
   "cell_type": "code",
   "execution_count": 6,
   "metadata": {},
   "outputs": [],
   "source": [
    "def clean_smiles(df: pd.DataFrame, column_name: str):\n",
    "    \"\"\"Cleanes SMILES as apparently there are quotes around the SMILES which makes it impossible for rDKit to parse. Canonicalizes smiles\n",
    "\n",
    "    Args:\n",
    "        df (pd.DataFrame): dataframe cleaned with all previous functions\n",
    "        column_name (str): productSmiles column\n",
    "\n",
    "    Returns:\n",
    "        df: pd.DataFrame: cleaned dataframe with SMILES that can be parsed in the form of a list in the column_name column\n",
    "    \"\"\"\n",
    "    # Remove any leading or trailing whitespace\n",
    "    df[column_name] = df[column_name].str.strip()\n",
    "    \n",
    "    # Remove any single or double quotes\n",
    "    df[column_name] = df[column_name].str.replace(\"'\", \"\").replace('\"', '')\n",
    "    \n",
    "    # Split the string into a list of SMILES if there are multiple SMILES separated by a comma\n",
    "    df[column_name] = df[column_name].str.split(',')\n",
    "    \n",
    "    # Canonicalize the SMILES\n",
    "    df[column_name] = df[column_name].apply(lambda smiles_list: [Chem.MolToSmiles(Chem.MolFromSmiles(smiles)) for smiles in smiles_list])\n",
    "    \n",
    "    # Remove rows that contain salts\n",
    "    df = remove_salts(df, column_name)\n",
    "    \n",
    "    return df"
   ]
  },
  {
   "cell_type": "code",
   "execution_count": 7,
   "metadata": {},
   "outputs": [],
   "source": [
    "def remove_atom_mapping(mol: Chem.Mol):\n",
    "    \"\"\"Function that removes atom mapping from SMILES strings.\n",
    "\n",
    "    Args:\n",
    "        mol (rdkit.Chem.rdchem.Mol): Molecule with atom mapping\n",
    "        \n",
    "    Returns:\n",
    "        smiles (str): SMILES string without atom mapping\n",
    "    \"\"\"\n",
    "    # Remove atom mapping\n",
    "    [atom.ClearProp('molAtomMapNumber') for atom in mol.GetAtoms() if atom.HasProp('molAtomMapNumber')]\n",
    "    \n",
    "    # Return canonical SMILES string\n",
    "    return Chem.MolToSmiles(mol)\n",
    "    "
   ]
  },
  {
   "cell_type": "code",
   "execution_count": 8,
   "metadata": {},
   "outputs": [],
   "source": [
    "def extract_product_smiles(df: pd.DataFrame):\n",
    "    \"\"\"function that extracts the product side from the reaction SMILES in the dataframe and puts it into a new column, which then is cleaned by the clean_smiles function\n",
    "\n",
    "    Args:\n",
    "        df (pd.DataFrame): dataframe cleaned with all previous functions\n",
    "    \"\"\"\n",
    "    df['extracted_pr_Smiles'] = None\n",
    "    \n",
    "    for index, row in df.iterrows():\n",
    "        reaction_smiles = row['reactionSmiles']\n",
    "        rxn = rdChemReactions.ReactionFromSmarts(reaction_smiles)\n",
    "        \n",
    "        #Extract, clean and canonicalize products\n",
    "        products = [remove_atom_mapping(mol) for mol in rxn.GetProducts()]\n",
    "        \n",
    "        #canonicalize the SMILES\n",
    "        products = products = [Chem.MolToSmiles(Chem.MolFromSmiles(smiles)) for smiles in products]\n",
    "        \n",
    "        df.at[index, 'extracted_pr_Smiles'] = products\n",
    "        \n",
    "    return df"
   ]
  },
  {
   "cell_type": "code",
   "execution_count": 9,
   "metadata": {},
   "outputs": [],
   "source": [
    "def are_enantiomers(mol1: Chem.Mol, mol2: Chem.Mol):\n",
    "    \"\"\"\n",
    "    Function that checks if two molecules are stereoisomers. Credits to: https://github.com/rdkit/rdkit/discussions/7169 for the inspiration with the swapping of the \"@\" and \"@@\" in the SMILES strings.\n",
    "\n",
    "    Args:\n",
    "        mol1 (Chem.Mol): RDKit molecule object 1\n",
    "        mol2 (Chem.Mol): RDKit molecule object 2\n",
    "\n",
    "    Returns:\n",
    "        bool: True if the molecules are enantiomers, False otherwise\n",
    "        int: Index of the chiral atom if the molecules are enantiomers, None otherwise\n",
    "    \"\"\"\n",
    "    # If either SMILES string is invalid, return False\n",
    "    if mol1 is None or mol2 is None:\n",
    "        return False, None\n",
    "\n",
    "    # Convert the molecule objects back to canonical SMILES strings\n",
    "    can_smi1 = Chem.MolToSmiles(mol1)\n",
    "    can_smi2 = Chem.MolToSmiles(mol2)\n",
    "\n",
    "    # If either SMILES string does not contain \"@\", return False\n",
    "    if \"@\" not in can_smi1 or \"@\" not in can_smi2:\n",
    "        return False, None\n",
    "\n",
    "    # Swap \"@\" and \"@@\" in can_smi1\n",
    "    swapped_can_smi1 = can_smi1.replace(\"@@\", \"__DOUBLE_AT__\").replace(\"@\", \"@@\").replace(\"__DOUBLE_AT__\", \"@\")\n",
    "\n",
    "    # If the swapped can_smi1 is equal to can_smi2, return True\n",
    "    if swapped_can_smi1 == can_smi2:\n",
    "        # Find the index of the chiral atom\n",
    "        for atom in mol1.GetAtoms():\n",
    "            if atom.GetChiralTag() != Chem.rdchem.ChiralType.CHI_UNSPECIFIED:\n",
    "                return True, atom.GetIdx()\n",
    "    \n",
    "    # If none of the above conditions were met, return False\n",
    "    return False, None"
   ]
  },
  {
   "cell_type": "code",
   "execution_count": 10,
   "metadata": {},
   "outputs": [],
   "source": [
    "def process_smiles(df: pd.DataFrame):\n",
    "    \"\"\"Function that processes the extracted product smiles from the rxn smiles. \n",
    "\n",
    "    Args:\n",
    "        df (pd.DataFrame): _description_\n",
    "    \"\"\"\n",
    "    rows_to_drop = []\n",
    "    for index, row in df.iterrows():\n",
    "        rxn_smiles_extr = row['extracted_pr_Smiles']\n",
    "\n",
    "        if len(rxn_smiles_extr) == 1:\n",
    "            mol = Chem.MolFromSmiles(rxn_smiles_extr[0])\n",
    "            if mol is not None:\n",
    "                df.at[index, 'productSmiles_processed'] = Chem.MolToSmiles(mol, isomericSmiles=True)\n",
    "            else:\n",
    "                rows_to_drop.append(index)\n",
    "        elif len(rxn_smiles_extr) == 2:\n",
    "            mol1 = Chem.MolFromSmiles(rxn_smiles_extr[0])\n",
    "            mol2 = Chem.MolFromSmiles(rxn_smiles_extr[1])\n",
    "            are_enantiomers_result, chiral_atom_index = are_enantiomers(mol1, mol2)\n",
    "            if mol1 is not None and mol2 is not None and are_enantiomers_result:\n",
    "                mol1.GetAtomWithIdx(chiral_atom_index).SetChiralTag(Chem.rdchem.ChiralType.CHI_UNSPECIFIED)\n",
    "                df.at[index, 'productSmiles_processed'] = Chem.MolToSmiles(mol1, isomericSmiles=True)\n",
    "            else:\n",
    "                rows_to_drop.append(index)\n",
    "                \n",
    "    df.drop(rows_to_drop, inplace=True)\n",
    "    print(f\"Number of rows dropped: {len(rows_to_drop)}\")\n",
    "    print(f\"Percentage of rows dropped: {len(rows_to_drop) / df.shape[0] * 100}%\")\n",
    "    \n",
    "    return df"
   ]
  },
  {
   "cell_type": "markdown",
   "metadata": {},
   "source": [
    "And now apply those function to our large dataset:"
   ]
  },
  {
   "cell_type": "code",
   "execution_count": 30,
   "metadata": {},
   "outputs": [
    {
     "name": "stdout",
     "output_type": "stream",
     "text": [
      "Number of rows dropped: 267\n",
      "Percentage of rows dropped: 1.7640063424947146%\n",
      "Number of rows dropped: 73\n",
      "Percentage of rows dropped: 0.4846312155613092%\n"
     ]
    },
    {
     "data": {
      "text/html": [
       "<div>\n",
       "<style scoped>\n",
       "    .dataframe tbody tr th:only-of-type {\n",
       "        vertical-align: middle;\n",
       "    }\n",
       "\n",
       "    .dataframe tbody tr th {\n",
       "        vertical-align: top;\n",
       "    }\n",
       "\n",
       "    .dataframe thead th {\n",
       "        text-align: right;\n",
       "    }\n",
       "</style>\n",
       "<table border=\"1\" class=\"dataframe\">\n",
       "  <thead>\n",
       "    <tr style=\"text-align: right;\">\n",
       "      <th></th>\n",
       "      <th>Unnamed: 0</th>\n",
       "      <th>paragraphText</th>\n",
       "      <th>reactionSmiles</th>\n",
       "      <th>productSmiles</th>\n",
       "      <th>title</th>\n",
       "      <th>Rf</th>\n",
       "      <th>Solvent_A</th>\n",
       "      <th>Solvent_B</th>\n",
       "      <th>Percent_A</th>\n",
       "      <th>Percent_B</th>\n",
       "      <th>Additive_C</th>\n",
       "      <th>Percent_C</th>\n",
       "      <th>sum</th>\n",
       "      <th>Solvent_A_Smiles</th>\n",
       "      <th>Solvent_B_Smiles</th>\n",
       "      <th>extracted_pr_Smiles</th>\n",
       "      <th>productSmiles_processed</th>\n",
       "    </tr>\n",
       "  </thead>\n",
       "  <tbody>\n",
       "    <tr>\n",
       "      <th>0</th>\n",
       "      <td>2</td>\n",
       "      <td>A solution of 4-{[(phenylmethoxy)carbonylamino...</td>\n",
       "      <td>[C:1]1([CH2:7][O:8][C:9]([NH:11][CH2:12][C:13]...</td>\n",
       "      <td>[CON(C)C(=O)c1ccc(CNC(=O)OCc2ccccc2)cc1]</td>\n",
       "      <td>Preparation of N-methoxy-N-methyl(4-{[(phenylm...</td>\n",
       "      <td>0.3</td>\n",
       "      <td>petroleum ether (2-methylpentane)</td>\n",
       "      <td>EtOAc</td>\n",
       "      <td>50.0</td>\n",
       "      <td>50.0</td>\n",
       "      <td>NaN</td>\n",
       "      <td>NaN</td>\n",
       "      <td>100.0</td>\n",
       "      <td>CCCC(C)C</td>\n",
       "      <td>O=C(OCC)C</td>\n",
       "      <td>[CON(C)C(=O)c1ccc(CNC(=O)OCc2ccccc2)cc1]</td>\n",
       "      <td>CON(C)C(=O)c1ccc(CNC(=O)OCc2ccccc2)cc1</td>\n",
       "    </tr>\n",
       "    <tr>\n",
       "      <th>1</th>\n",
       "      <td>3</td>\n",
       "      <td>Putative nitrilase up-mutants were assayed in ...</td>\n",
       "      <td>[CH3:1][C:2]1(C)S[C@@H]2[C@H](NC([C@H](N)C3C=C...</td>\n",
       "      <td>[N#CC[C@@H](O)CC(=O)O]</td>\n",
       "      <td>NaN</td>\n",
       "      <td>0.5</td>\n",
       "      <td>EtOAc</td>\n",
       "      <td>Hexane</td>\n",
       "      <td>50.0</td>\n",
       "      <td>50.0</td>\n",
       "      <td>NaN</td>\n",
       "      <td>NaN</td>\n",
       "      <td>100.0</td>\n",
       "      <td>O=C(OCC)C</td>\n",
       "      <td>CCCCCC</td>\n",
       "      <td>[N#CC[C@@H](O)CC(=O)O]</td>\n",
       "      <td>N#CC[C@@H](O)CC(=O)O</td>\n",
       "    </tr>\n",
       "    <tr>\n",
       "      <th>2</th>\n",
       "      <td>5</td>\n",
       "      <td>To 0.4 g N6-benzoyl-3′-O-(methylthiomethyl)-5′...</td>\n",
       "      <td>[C:1]([NH:9][C:10]1[C:11]2[N:12]=[CH:13][N:14]...</td>\n",
       "      <td>[[N-]=[N+]=NCO[C@H]1C[C@H](n2cnc3c(NC(=O)c4ccc...</td>\n",
       "      <td>NaN</td>\n",
       "      <td>0.3</td>\n",
       "      <td>EtOAc</td>\n",
       "      <td>Hexane</td>\n",
       "      <td>70.0</td>\n",
       "      <td>30.0</td>\n",
       "      <td>NaN</td>\n",
       "      <td>NaN</td>\n",
       "      <td>100.0</td>\n",
       "      <td>O=C(OCC)C</td>\n",
       "      <td>CCCCCC</td>\n",
       "      <td>[[N-]=[N+]=NCO[C@H]1C[C@H](n2cnc3c(NC(=O)c4ccc...</td>\n",
       "      <td>[N-]=[N+]=NCO[C@H]1C[C@H](n2cnc3c(NC(=O)c4cccc...</td>\n",
       "    </tr>\n",
       "    <tr>\n",
       "      <th>3</th>\n",
       "      <td>6</td>\n",
       "      <td>3.5 g N4-benzoyl-5′-O-tert-butyldimethylsilyl-...</td>\n",
       "      <td>[C:1]([NH:9][C:10]1[CH:30]=[CH:29][N:13]([C@@H...</td>\n",
       "      <td>[CSCO[C@H]1C[C@H](n2ccc(NC(=O)c3ccccc3)nc2=O)O...</td>\n",
       "      <td>NaN</td>\n",
       "      <td>0.4</td>\n",
       "      <td>EtOAc</td>\n",
       "      <td>Hexane</td>\n",
       "      <td>90.0</td>\n",
       "      <td>10.0</td>\n",
       "      <td>NaN</td>\n",
       "      <td>NaN</td>\n",
       "      <td>100.0</td>\n",
       "      <td>O=C(OCC)C</td>\n",
       "      <td>CCCCCC</td>\n",
       "      <td>[CSCO[C@H]1C[C@H](n2ccc(NC(=O)c3ccccc3)nc2=O)O...</td>\n",
       "      <td>CSCO[C@H]1C[C@H](n2ccc(NC(=O)c3ccccc3)nc2=O)O[...</td>\n",
       "    </tr>\n",
       "    <tr>\n",
       "      <th>4</th>\n",
       "      <td>7</td>\n",
       "      <td>To 0.5580 g N4-benzoyl-3′-O-(methylthiomethyl)...</td>\n",
       "      <td>[C:1]([NH:9][C:10]1[CH:33]=[CH:32][N:13]([C@@H...</td>\n",
       "      <td>[[N-]=[N+]=NCO[C@H]1C[C@H](n2ccc(NC(=O)c3ccccc...</td>\n",
       "      <td>NaN</td>\n",
       "      <td>0.5</td>\n",
       "      <td>EtOAc</td>\n",
       "      <td>Hexane</td>\n",
       "      <td>5.0</td>\n",
       "      <td>95.0</td>\n",
       "      <td>NaN</td>\n",
       "      <td>NaN</td>\n",
       "      <td>100.0</td>\n",
       "      <td>O=C(OCC)C</td>\n",
       "      <td>CCCCCC</td>\n",
       "      <td>[[N-]=[N+]=NCO[C@H]1C[C@H](n2ccc(NC(=O)c3ccccc...</td>\n",
       "      <td>[N-]=[N+]=NCO[C@H]1C[C@H](n2ccc(NC(=O)c3ccccc3...</td>\n",
       "    </tr>\n",
       "  </tbody>\n",
       "</table>\n",
       "</div>"
      ],
      "text/plain": [
       "   Unnamed: 0                                      paragraphText  \\\n",
       "0           2  A solution of 4-{[(phenylmethoxy)carbonylamino...   \n",
       "1           3  Putative nitrilase up-mutants were assayed in ...   \n",
       "2           5  To 0.4 g N6-benzoyl-3′-O-(methylthiomethyl)-5′...   \n",
       "3           6  3.5 g N4-benzoyl-5′-O-tert-butyldimethylsilyl-...   \n",
       "4           7  To 0.5580 g N4-benzoyl-3′-O-(methylthiomethyl)...   \n",
       "\n",
       "                                      reactionSmiles  \\\n",
       "0  [C:1]1([CH2:7][O:8][C:9]([NH:11][CH2:12][C:13]...   \n",
       "1  [CH3:1][C:2]1(C)S[C@@H]2[C@H](NC([C@H](N)C3C=C...   \n",
       "2  [C:1]([NH:9][C:10]1[C:11]2[N:12]=[CH:13][N:14]...   \n",
       "3  [C:1]([NH:9][C:10]1[CH:30]=[CH:29][N:13]([C@@H...   \n",
       "4  [C:1]([NH:9][C:10]1[CH:33]=[CH:32][N:13]([C@@H...   \n",
       "\n",
       "                                       productSmiles  \\\n",
       "0           [CON(C)C(=O)c1ccc(CNC(=O)OCc2ccccc2)cc1]   \n",
       "1                             [N#CC[C@@H](O)CC(=O)O]   \n",
       "2  [[N-]=[N+]=NCO[C@H]1C[C@H](n2cnc3c(NC(=O)c4ccc...   \n",
       "3  [CSCO[C@H]1C[C@H](n2ccc(NC(=O)c3ccccc3)nc2=O)O...   \n",
       "4  [[N-]=[N+]=NCO[C@H]1C[C@H](n2ccc(NC(=O)c3ccccc...   \n",
       "\n",
       "                                               title   Rf  \\\n",
       "0  Preparation of N-methoxy-N-methyl(4-{[(phenylm...  0.3   \n",
       "1                                                NaN  0.5   \n",
       "2                                                NaN  0.3   \n",
       "3                                                NaN  0.4   \n",
       "4                                                NaN  0.5   \n",
       "\n",
       "                           Solvent_A Solvent_B  Percent_A  Percent_B  \\\n",
       "0  petroleum ether (2-methylpentane)     EtOAc       50.0       50.0   \n",
       "1                              EtOAc    Hexane       50.0       50.0   \n",
       "2                              EtOAc    Hexane       70.0       30.0   \n",
       "3                              EtOAc    Hexane       90.0       10.0   \n",
       "4                              EtOAc    Hexane        5.0       95.0   \n",
       "\n",
       "  Additive_C  Percent_C    sum Solvent_A_Smiles Solvent_B_Smiles  \\\n",
       "0        NaN        NaN  100.0         CCCC(C)C        O=C(OCC)C   \n",
       "1        NaN        NaN  100.0        O=C(OCC)C           CCCCCC   \n",
       "2        NaN        NaN  100.0        O=C(OCC)C           CCCCCC   \n",
       "3        NaN        NaN  100.0        O=C(OCC)C           CCCCCC   \n",
       "4        NaN        NaN  100.0        O=C(OCC)C           CCCCCC   \n",
       "\n",
       "                                 extracted_pr_Smiles  \\\n",
       "0           [CON(C)C(=O)c1ccc(CNC(=O)OCc2ccccc2)cc1]   \n",
       "1                             [N#CC[C@@H](O)CC(=O)O]   \n",
       "2  [[N-]=[N+]=NCO[C@H]1C[C@H](n2cnc3c(NC(=O)c4ccc...   \n",
       "3  [CSCO[C@H]1C[C@H](n2ccc(NC(=O)c3ccccc3)nc2=O)O...   \n",
       "4  [[N-]=[N+]=NCO[C@H]1C[C@H](n2ccc(NC(=O)c3ccccc...   \n",
       "\n",
       "                             productSmiles_processed  \n",
       "0             CON(C)C(=O)c1ccc(CNC(=O)OCc2ccccc2)cc1  \n",
       "1                               N#CC[C@@H](O)CC(=O)O  \n",
       "2  [N-]=[N+]=NCO[C@H]1C[C@H](n2cnc3c(NC(=O)c4cccc...  \n",
       "3  CSCO[C@H]1C[C@H](n2ccc(NC(=O)c3ccccc3)nc2=O)O[...  \n",
       "4  [N-]=[N+]=NCO[C@H]1C[C@H](n2ccc(NC(=O)c3ccccc3...  "
      ]
     },
     "execution_count": 30,
     "metadata": {},
     "output_type": "execute_result"
    }
   ],
   "source": [
    "# clean SMILES and extract product SMILES\n",
    "df = clean_smiles(df, 'productSmiles')\n",
    "df = extract_product_smiles(df)\n",
    "df = process_smiles(df)\n",
    "df.head()"
   ]
  },
  {
   "cell_type": "code",
   "execution_count": 40,
   "metadata": {},
   "outputs": [
    {
     "data": {
      "text/plain": [
       "(15063, 17)"
      ]
     },
     "execution_count": 40,
     "metadata": {},
     "output_type": "execute_result"
    }
   ],
   "source": [
    "df.shape"
   ]
  },
  {
   "cell_type": "code",
   "execution_count": 31,
   "metadata": {},
   "outputs": [],
   "source": [
    "df.to_csv(r'C:\\Users\\milen\\git\\ppChem\\PPChem_TLC\\data\\dataset_cleaned.csv', index=False)"
   ]
  },
  {
   "cell_type": "markdown",
   "metadata": {},
   "source": [
    "From our first 2 million extracted reactions we cut down everything to 15 thousand datapoints. That was a long way (pretty condensed in this notebook) and we faced many challenged along the way, first through messing up with regex, going over to our LLM, cleaning up the SMILEs and with every step getting more familiar with the data, overall noticing, that the process of data-processing can take more time than implementing the final machine learning model. "
   ]
  },
  {
   "cell_type": "markdown",
   "metadata": {},
   "source": [
    "# 5. Preparing of the Data for Training 🏋️\n",
    "Finally we got more or less everything we need to go on. For the machine learning model we need some features that can be fed into the model. To train the model, we needed to convert it into some machine-readable format. This and the trainings of different models are described in the second notebook. "
   ]
  },
  {
   "cell_type": "markdown",
   "metadata": {},
   "source": []
  }
 ],
 "metadata": {
  "kernelspec": {
   "display_name": "ppchem",
   "language": "python",
   "name": "python3"
  },
  "language_info": {
   "codemirror_mode": {
    "name": "ipython",
    "version": 3
   },
   "file_extension": ".py",
   "mimetype": "text/x-python",
   "name": "python",
   "nbconvert_exporter": "python",
   "pygments_lexer": "ipython3",
   "version": "3.10.13"
  }
 },
 "nbformat": 4,
 "nbformat_minor": 2
}
